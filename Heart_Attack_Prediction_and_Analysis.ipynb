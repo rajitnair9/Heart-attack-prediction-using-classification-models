{
  "cells": [
    {
      "cell_type": "markdown",
      "metadata": {
        "id": "6CSpB-UqT2hm"
      },
      "source": [
        "#About the dataset\n",
        "This dataset includes data that were used for heart disease diagnosis.\n",
        "\n",
        "There are features such as age, sex, blood sugar & pressure, heart rate, etc.\n",
        "\n",
        "cp means chest pain and oldpeak is the indicator of ST depression and num is our main target.\n",
        "\n",
        "Our main objective is to predict \"num\" which is represented by binary values with 0 & 1. \n",
        "\n",
        "While 0 means no heart attack, 1 represents the presence of heart attack."
      ]
    },
    {
      "cell_type": "markdown",
      "source": [
        "# Importing required libraries and loading the data"
      ],
      "metadata": {
        "id": "cAxqGpt9OtEY"
      }
    },
    {
      "cell_type": "code",
      "execution_count": null,
      "metadata": {
        "id": "f5q9DaEUCwJD",
        "colab": {
          "base_uri": "https://localhost:8080/"
        },
        "outputId": "1546d6ba-d300-4d2b-c258-84cf28394b09"
      },
      "outputs": [
        {
          "output_type": "stream",
          "name": "stdout",
          "text": [
            "Looking in indexes: https://pypi.org/simple, https://us-python.pkg.dev/colab-wheels/public/simple/\n",
            "Requirement already satisfied: matplotlib in /usr/local/lib/python3.7/dist-packages (3.2.2)\n",
            "Requirement already satisfied: cycler>=0.10 in /usr/local/lib/python3.7/dist-packages (from matplotlib) (0.11.0)\n",
            "Requirement already satisfied: pyparsing!=2.0.4,!=2.1.2,!=2.1.6,>=2.0.1 in /usr/local/lib/python3.7/dist-packages (from matplotlib) (3.0.9)\n",
            "Requirement already satisfied: python-dateutil>=2.1 in /usr/local/lib/python3.7/dist-packages (from matplotlib) (2.8.2)\n",
            "Requirement already satisfied: kiwisolver>=1.0.1 in /usr/local/lib/python3.7/dist-packages (from matplotlib) (1.4.4)\n",
            "Requirement already satisfied: numpy>=1.11 in /usr/local/lib/python3.7/dist-packages (from matplotlib) (1.21.6)\n",
            "Requirement already satisfied: typing-extensions in /usr/local/lib/python3.7/dist-packages (from kiwisolver>=1.0.1->matplotlib) (4.1.1)\n",
            "Requirement already satisfied: six>=1.5 in /usr/local/lib/python3.7/dist-packages (from python-dateutil>=2.1->matplotlib) (1.15.0)\n"
          ]
        }
      ],
      "source": [
        "import pandas as pd \n",
        "import numpy as np\n",
        "import seaborn as sns\n",
        "\n",
        "import warnings\n",
        "warnings.filterwarnings(\"ignore\")\n",
        "!pip install matplotlib\n",
        "import matplotlib.pyplot as plt\n",
        "%matplotlib inline"
      ]
    },
    {
      "cell_type": "code",
      "execution_count": null,
      "metadata": {
        "colab": {
          "base_uri": "https://localhost:8080/",
          "height": 206
        },
        "id": "oXZUXKHbFrQp",
        "outputId": "3f0066d9-3758-4d65-c632-bdf09c63275a"
      },
      "outputs": [
        {
          "output_type": "execute_result",
          "data": {
            "text/plain": [
              "   age  sex  cp trestbps chol fbs restecg thalach exang  oldpeak slope ca  \\\n",
              "0   28    1   2      130  132   0       2     185     0      0.0     ?  ?   \n",
              "1   29    1   2      120  243   0       0     160     0      0.0     ?  ?   \n",
              "2   29    1   2      140    ?   0       0     170     0      0.0     ?  ?   \n",
              "3   30    0   1      170  237   0       1     170     0      0.0     ?  ?   \n",
              "4   31    0   2      100  219   0       1     150     0      0.0     ?  ?   \n",
              "\n",
              "  thal  num         \n",
              "0    ?           0  \n",
              "1    ?           0  \n",
              "2    ?           0  \n",
              "3    6           0  \n",
              "4    ?           0  "
            ],
            "text/html": [
              "\n",
              "  <div id=\"df-bc1884a3-6407-47a5-9370-38e77b50b397\">\n",
              "    <div class=\"colab-df-container\">\n",
              "      <div>\n",
              "<style scoped>\n",
              "    .dataframe tbody tr th:only-of-type {\n",
              "        vertical-align: middle;\n",
              "    }\n",
              "\n",
              "    .dataframe tbody tr th {\n",
              "        vertical-align: top;\n",
              "    }\n",
              "\n",
              "    .dataframe thead th {\n",
              "        text-align: right;\n",
              "    }\n",
              "</style>\n",
              "<table border=\"1\" class=\"dataframe\">\n",
              "  <thead>\n",
              "    <tr style=\"text-align: right;\">\n",
              "      <th></th>\n",
              "      <th>age</th>\n",
              "      <th>sex</th>\n",
              "      <th>cp</th>\n",
              "      <th>trestbps</th>\n",
              "      <th>chol</th>\n",
              "      <th>fbs</th>\n",
              "      <th>restecg</th>\n",
              "      <th>thalach</th>\n",
              "      <th>exang</th>\n",
              "      <th>oldpeak</th>\n",
              "      <th>slope</th>\n",
              "      <th>ca</th>\n",
              "      <th>thal</th>\n",
              "      <th>num</th>\n",
              "    </tr>\n",
              "  </thead>\n",
              "  <tbody>\n",
              "    <tr>\n",
              "      <th>0</th>\n",
              "      <td>28</td>\n",
              "      <td>1</td>\n",
              "      <td>2</td>\n",
              "      <td>130</td>\n",
              "      <td>132</td>\n",
              "      <td>0</td>\n",
              "      <td>2</td>\n",
              "      <td>185</td>\n",
              "      <td>0</td>\n",
              "      <td>0.0</td>\n",
              "      <td>?</td>\n",
              "      <td>?</td>\n",
              "      <td>?</td>\n",
              "      <td>0</td>\n",
              "    </tr>\n",
              "    <tr>\n",
              "      <th>1</th>\n",
              "      <td>29</td>\n",
              "      <td>1</td>\n",
              "      <td>2</td>\n",
              "      <td>120</td>\n",
              "      <td>243</td>\n",
              "      <td>0</td>\n",
              "      <td>0</td>\n",
              "      <td>160</td>\n",
              "      <td>0</td>\n",
              "      <td>0.0</td>\n",
              "      <td>?</td>\n",
              "      <td>?</td>\n",
              "      <td>?</td>\n",
              "      <td>0</td>\n",
              "    </tr>\n",
              "    <tr>\n",
              "      <th>2</th>\n",
              "      <td>29</td>\n",
              "      <td>1</td>\n",
              "      <td>2</td>\n",
              "      <td>140</td>\n",
              "      <td>?</td>\n",
              "      <td>0</td>\n",
              "      <td>0</td>\n",
              "      <td>170</td>\n",
              "      <td>0</td>\n",
              "      <td>0.0</td>\n",
              "      <td>?</td>\n",
              "      <td>?</td>\n",
              "      <td>?</td>\n",
              "      <td>0</td>\n",
              "    </tr>\n",
              "    <tr>\n",
              "      <th>3</th>\n",
              "      <td>30</td>\n",
              "      <td>0</td>\n",
              "      <td>1</td>\n",
              "      <td>170</td>\n",
              "      <td>237</td>\n",
              "      <td>0</td>\n",
              "      <td>1</td>\n",
              "      <td>170</td>\n",
              "      <td>0</td>\n",
              "      <td>0.0</td>\n",
              "      <td>?</td>\n",
              "      <td>?</td>\n",
              "      <td>6</td>\n",
              "      <td>0</td>\n",
              "    </tr>\n",
              "    <tr>\n",
              "      <th>4</th>\n",
              "      <td>31</td>\n",
              "      <td>0</td>\n",
              "      <td>2</td>\n",
              "      <td>100</td>\n",
              "      <td>219</td>\n",
              "      <td>0</td>\n",
              "      <td>1</td>\n",
              "      <td>150</td>\n",
              "      <td>0</td>\n",
              "      <td>0.0</td>\n",
              "      <td>?</td>\n",
              "      <td>?</td>\n",
              "      <td>?</td>\n",
              "      <td>0</td>\n",
              "    </tr>\n",
              "  </tbody>\n",
              "</table>\n",
              "</div>\n",
              "      <button class=\"colab-df-convert\" onclick=\"convertToInteractive('df-bc1884a3-6407-47a5-9370-38e77b50b397')\"\n",
              "              title=\"Convert this dataframe to an interactive table.\"\n",
              "              style=\"display:none;\">\n",
              "        \n",
              "  <svg xmlns=\"http://www.w3.org/2000/svg\" height=\"24px\"viewBox=\"0 0 24 24\"\n",
              "       width=\"24px\">\n",
              "    <path d=\"M0 0h24v24H0V0z\" fill=\"none\"/>\n",
              "    <path d=\"M18.56 5.44l.94 2.06.94-2.06 2.06-.94-2.06-.94-.94-2.06-.94 2.06-2.06.94zm-11 1L8.5 8.5l.94-2.06 2.06-.94-2.06-.94L8.5 2.5l-.94 2.06-2.06.94zm10 10l.94 2.06.94-2.06 2.06-.94-2.06-.94-.94-2.06-.94 2.06-2.06.94z\"/><path d=\"M17.41 7.96l-1.37-1.37c-.4-.4-.92-.59-1.43-.59-.52 0-1.04.2-1.43.59L10.3 9.45l-7.72 7.72c-.78.78-.78 2.05 0 2.83L4 21.41c.39.39.9.59 1.41.59.51 0 1.02-.2 1.41-.59l7.78-7.78 2.81-2.81c.8-.78.8-2.07 0-2.86zM5.41 20L4 18.59l7.72-7.72 1.47 1.35L5.41 20z\"/>\n",
              "  </svg>\n",
              "      </button>\n",
              "      \n",
              "  <style>\n",
              "    .colab-df-container {\n",
              "      display:flex;\n",
              "      flex-wrap:wrap;\n",
              "      gap: 12px;\n",
              "    }\n",
              "\n",
              "    .colab-df-convert {\n",
              "      background-color: #E8F0FE;\n",
              "      border: none;\n",
              "      border-radius: 50%;\n",
              "      cursor: pointer;\n",
              "      display: none;\n",
              "      fill: #1967D2;\n",
              "      height: 32px;\n",
              "      padding: 0 0 0 0;\n",
              "      width: 32px;\n",
              "    }\n",
              "\n",
              "    .colab-df-convert:hover {\n",
              "      background-color: #E2EBFA;\n",
              "      box-shadow: 0px 1px 2px rgba(60, 64, 67, 0.3), 0px 1px 3px 1px rgba(60, 64, 67, 0.15);\n",
              "      fill: #174EA6;\n",
              "    }\n",
              "\n",
              "    [theme=dark] .colab-df-convert {\n",
              "      background-color: #3B4455;\n",
              "      fill: #D2E3FC;\n",
              "    }\n",
              "\n",
              "    [theme=dark] .colab-df-convert:hover {\n",
              "      background-color: #434B5C;\n",
              "      box-shadow: 0px 1px 3px 1px rgba(0, 0, 0, 0.15);\n",
              "      filter: drop-shadow(0px 1px 2px rgba(0, 0, 0, 0.3));\n",
              "      fill: #FFFFFF;\n",
              "    }\n",
              "  </style>\n",
              "\n",
              "      <script>\n",
              "        const buttonEl =\n",
              "          document.querySelector('#df-bc1884a3-6407-47a5-9370-38e77b50b397 button.colab-df-convert');\n",
              "        buttonEl.style.display =\n",
              "          google.colab.kernel.accessAllowed ? 'block' : 'none';\n",
              "\n",
              "        async function convertToInteractive(key) {\n",
              "          const element = document.querySelector('#df-bc1884a3-6407-47a5-9370-38e77b50b397');\n",
              "          const dataTable =\n",
              "            await google.colab.kernel.invokeFunction('convertToInteractive',\n",
              "                                                     [key], {});\n",
              "          if (!dataTable) return;\n",
              "\n",
              "          const docLinkHtml = 'Like what you see? Visit the ' +\n",
              "            '<a target=\"_blank\" href=https://colab.research.google.com/notebooks/data_table.ipynb>data table notebook</a>'\n",
              "            + ' to learn more about interactive tables.';\n",
              "          element.innerHTML = '';\n",
              "          dataTable['output_type'] = 'display_data';\n",
              "          await google.colab.output.renderOutput(dataTable, element);\n",
              "          const docLink = document.createElement('div');\n",
              "          docLink.innerHTML = docLinkHtml;\n",
              "          element.appendChild(docLink);\n",
              "        }\n",
              "      </script>\n",
              "    </div>\n",
              "  </div>\n",
              "  "
            ]
          },
          "metadata": {},
          "execution_count": 304
        }
      ],
      "source": [
        "df=pd.read_csv('data.csv')\n",
        "df.head() "
      ]
    },
    {
      "cell_type": "markdown",
      "metadata": {
        "id": "wVcCoMqOS0Jl"
      },
      "source": [
        "# Exploratory Data Analysis"
      ]
    },
    {
      "cell_type": "code",
      "execution_count": null,
      "metadata": {
        "colab": {
          "base_uri": "https://localhost:8080/"
        },
        "id": "b4gOvI_2QjIh",
        "outputId": "d83dbd36-72ed-40f9-afb4-1a766bec5d9d"
      },
      "outputs": [
        {
          "output_type": "stream",
          "name": "stdout",
          "text": [
            "<class 'pandas.core.frame.DataFrame'>\n",
            "RangeIndex: 294 entries, 0 to 293\n",
            "Data columns (total 14 columns):\n",
            " #   Column      Non-Null Count  Dtype  \n",
            "---  ------      --------------  -----  \n",
            " 0   age         294 non-null    int64  \n",
            " 1   sex         294 non-null    int64  \n",
            " 2   cp          294 non-null    int64  \n",
            " 3   trestbps    294 non-null    object \n",
            " 4   chol        294 non-null    object \n",
            " 5   fbs         294 non-null    object \n",
            " 6   restecg     294 non-null    object \n",
            " 7   thalach     294 non-null    object \n",
            " 8   exang       294 non-null    object \n",
            " 9   oldpeak     294 non-null    float64\n",
            " 10  slope       294 non-null    object \n",
            " 11  ca          294 non-null    object \n",
            " 12  thal        294 non-null    object \n",
            " 13  num         294 non-null    int64  \n",
            "dtypes: float64(1), int64(4), object(9)\n",
            "memory usage: 32.3+ KB\n"
          ]
        }
      ],
      "source": [
        "df.info()"
      ]
    },
    {
      "cell_type": "code",
      "execution_count": null,
      "metadata": {
        "colab": {
          "base_uri": "https://localhost:8080/",
          "height": 300
        },
        "id": "PkxWvacrSDQC",
        "outputId": "98095dd1-96f1-4618-bba7-6813a5265fdb"
      },
      "outputs": [
        {
          "output_type": "execute_result",
          "data": {
            "text/plain": [
              "              age         sex          cp     oldpeak  num       \n",
              "count  294.000000  294.000000  294.000000  294.000000  294.000000\n",
              "mean    47.826531    0.724490    2.982993    0.586054    0.360544\n",
              "std      7.811812    0.447533    0.965117    0.908648    0.480977\n",
              "min     28.000000    0.000000    1.000000    0.000000    0.000000\n",
              "25%     42.000000    0.000000    2.000000    0.000000    0.000000\n",
              "50%     49.000000    1.000000    3.000000    0.000000    0.000000\n",
              "75%     54.000000    1.000000    4.000000    1.000000    1.000000\n",
              "max     66.000000    1.000000    4.000000    5.000000    1.000000"
            ],
            "text/html": [
              "\n",
              "  <div id=\"df-f56d7f47-7b1f-4857-8cde-570655bbf4aa\">\n",
              "    <div class=\"colab-df-container\">\n",
              "      <div>\n",
              "<style scoped>\n",
              "    .dataframe tbody tr th:only-of-type {\n",
              "        vertical-align: middle;\n",
              "    }\n",
              "\n",
              "    .dataframe tbody tr th {\n",
              "        vertical-align: top;\n",
              "    }\n",
              "\n",
              "    .dataframe thead th {\n",
              "        text-align: right;\n",
              "    }\n",
              "</style>\n",
              "<table border=\"1\" class=\"dataframe\">\n",
              "  <thead>\n",
              "    <tr style=\"text-align: right;\">\n",
              "      <th></th>\n",
              "      <th>age</th>\n",
              "      <th>sex</th>\n",
              "      <th>cp</th>\n",
              "      <th>oldpeak</th>\n",
              "      <th>num</th>\n",
              "    </tr>\n",
              "  </thead>\n",
              "  <tbody>\n",
              "    <tr>\n",
              "      <th>count</th>\n",
              "      <td>294.000000</td>\n",
              "      <td>294.000000</td>\n",
              "      <td>294.000000</td>\n",
              "      <td>294.000000</td>\n",
              "      <td>294.000000</td>\n",
              "    </tr>\n",
              "    <tr>\n",
              "      <th>mean</th>\n",
              "      <td>47.826531</td>\n",
              "      <td>0.724490</td>\n",
              "      <td>2.982993</td>\n",
              "      <td>0.586054</td>\n",
              "      <td>0.360544</td>\n",
              "    </tr>\n",
              "    <tr>\n",
              "      <th>std</th>\n",
              "      <td>7.811812</td>\n",
              "      <td>0.447533</td>\n",
              "      <td>0.965117</td>\n",
              "      <td>0.908648</td>\n",
              "      <td>0.480977</td>\n",
              "    </tr>\n",
              "    <tr>\n",
              "      <th>min</th>\n",
              "      <td>28.000000</td>\n",
              "      <td>0.000000</td>\n",
              "      <td>1.000000</td>\n",
              "      <td>0.000000</td>\n",
              "      <td>0.000000</td>\n",
              "    </tr>\n",
              "    <tr>\n",
              "      <th>25%</th>\n",
              "      <td>42.000000</td>\n",
              "      <td>0.000000</td>\n",
              "      <td>2.000000</td>\n",
              "      <td>0.000000</td>\n",
              "      <td>0.000000</td>\n",
              "    </tr>\n",
              "    <tr>\n",
              "      <th>50%</th>\n",
              "      <td>49.000000</td>\n",
              "      <td>1.000000</td>\n",
              "      <td>3.000000</td>\n",
              "      <td>0.000000</td>\n",
              "      <td>0.000000</td>\n",
              "    </tr>\n",
              "    <tr>\n",
              "      <th>75%</th>\n",
              "      <td>54.000000</td>\n",
              "      <td>1.000000</td>\n",
              "      <td>4.000000</td>\n",
              "      <td>1.000000</td>\n",
              "      <td>1.000000</td>\n",
              "    </tr>\n",
              "    <tr>\n",
              "      <th>max</th>\n",
              "      <td>66.000000</td>\n",
              "      <td>1.000000</td>\n",
              "      <td>4.000000</td>\n",
              "      <td>5.000000</td>\n",
              "      <td>1.000000</td>\n",
              "    </tr>\n",
              "  </tbody>\n",
              "</table>\n",
              "</div>\n",
              "      <button class=\"colab-df-convert\" onclick=\"convertToInteractive('df-f56d7f47-7b1f-4857-8cde-570655bbf4aa')\"\n",
              "              title=\"Convert this dataframe to an interactive table.\"\n",
              "              style=\"display:none;\">\n",
              "        \n",
              "  <svg xmlns=\"http://www.w3.org/2000/svg\" height=\"24px\"viewBox=\"0 0 24 24\"\n",
              "       width=\"24px\">\n",
              "    <path d=\"M0 0h24v24H0V0z\" fill=\"none\"/>\n",
              "    <path d=\"M18.56 5.44l.94 2.06.94-2.06 2.06-.94-2.06-.94-.94-2.06-.94 2.06-2.06.94zm-11 1L8.5 8.5l.94-2.06 2.06-.94-2.06-.94L8.5 2.5l-.94 2.06-2.06.94zm10 10l.94 2.06.94-2.06 2.06-.94-2.06-.94-.94-2.06-.94 2.06-2.06.94z\"/><path d=\"M17.41 7.96l-1.37-1.37c-.4-.4-.92-.59-1.43-.59-.52 0-1.04.2-1.43.59L10.3 9.45l-7.72 7.72c-.78.78-.78 2.05 0 2.83L4 21.41c.39.39.9.59 1.41.59.51 0 1.02-.2 1.41-.59l7.78-7.78 2.81-2.81c.8-.78.8-2.07 0-2.86zM5.41 20L4 18.59l7.72-7.72 1.47 1.35L5.41 20z\"/>\n",
              "  </svg>\n",
              "      </button>\n",
              "      \n",
              "  <style>\n",
              "    .colab-df-container {\n",
              "      display:flex;\n",
              "      flex-wrap:wrap;\n",
              "      gap: 12px;\n",
              "    }\n",
              "\n",
              "    .colab-df-convert {\n",
              "      background-color: #E8F0FE;\n",
              "      border: none;\n",
              "      border-radius: 50%;\n",
              "      cursor: pointer;\n",
              "      display: none;\n",
              "      fill: #1967D2;\n",
              "      height: 32px;\n",
              "      padding: 0 0 0 0;\n",
              "      width: 32px;\n",
              "    }\n",
              "\n",
              "    .colab-df-convert:hover {\n",
              "      background-color: #E2EBFA;\n",
              "      box-shadow: 0px 1px 2px rgba(60, 64, 67, 0.3), 0px 1px 3px 1px rgba(60, 64, 67, 0.15);\n",
              "      fill: #174EA6;\n",
              "    }\n",
              "\n",
              "    [theme=dark] .colab-df-convert {\n",
              "      background-color: #3B4455;\n",
              "      fill: #D2E3FC;\n",
              "    }\n",
              "\n",
              "    [theme=dark] .colab-df-convert:hover {\n",
              "      background-color: #434B5C;\n",
              "      box-shadow: 0px 1px 3px 1px rgba(0, 0, 0, 0.15);\n",
              "      filter: drop-shadow(0px 1px 2px rgba(0, 0, 0, 0.3));\n",
              "      fill: #FFFFFF;\n",
              "    }\n",
              "  </style>\n",
              "\n",
              "      <script>\n",
              "        const buttonEl =\n",
              "          document.querySelector('#df-f56d7f47-7b1f-4857-8cde-570655bbf4aa button.colab-df-convert');\n",
              "        buttonEl.style.display =\n",
              "          google.colab.kernel.accessAllowed ? 'block' : 'none';\n",
              "\n",
              "        async function convertToInteractive(key) {\n",
              "          const element = document.querySelector('#df-f56d7f47-7b1f-4857-8cde-570655bbf4aa');\n",
              "          const dataTable =\n",
              "            await google.colab.kernel.invokeFunction('convertToInteractive',\n",
              "                                                     [key], {});\n",
              "          if (!dataTable) return;\n",
              "\n",
              "          const docLinkHtml = 'Like what you see? Visit the ' +\n",
              "            '<a target=\"_blank\" href=https://colab.research.google.com/notebooks/data_table.ipynb>data table notebook</a>'\n",
              "            + ' to learn more about interactive tables.';\n",
              "          element.innerHTML = '';\n",
              "          dataTable['output_type'] = 'display_data';\n",
              "          await google.colab.output.renderOutput(dataTable, element);\n",
              "          const docLink = document.createElement('div');\n",
              "          docLink.innerHTML = docLinkHtml;\n",
              "          element.appendChild(docLink);\n",
              "        }\n",
              "      </script>\n",
              "    </div>\n",
              "  </div>\n",
              "  "
            ]
          },
          "metadata": {},
          "execution_count": 306
        }
      ],
      "source": [
        "df.describe()"
      ]
    },
    {
      "cell_type": "code",
      "execution_count": null,
      "metadata": {
        "colab": {
          "base_uri": "https://localhost:8080/",
          "height": 457
        },
        "id": "_-pKYmCPTLY3",
        "outputId": "fbaa3f82-03e0-407a-f542-43ed27efe4a7"
      },
      "outputs": [
        {
          "output_type": "display_data",
          "data": {
            "text/plain": [
              "<Figure size 1008x504 with 2 Axes>"
            ],
            "image/png": "[encoded data removed]"
          },
          "metadata": {
            "needs_background": "light"
          }
        }
      ],
      "source": [
        "plt.figure(figsize=(14, 7))\n",
        "sns.heatmap(df.corr(), annot=True,fmt=\"0.3f\",cmap=\"Reds\")\n",
        "plt.xticks(rotation=45);"
      ]
    },
    {
      "cell_type": "markdown",
      "metadata": {
        "id": "nWtKPJHQTysn"
      },
      "source": [
        "Based on the heatmap above, correlation on cp(chest pain) and num(our main target and also known as \"attack\") and between oldpeak(st depression) and num have been detected."
      ]
    },
    {
      "cell_type": "code",
      "execution_count": null,
      "metadata": {
        "colab": {
          "base_uri": "https://localhost:8080/"
        },
        "id": "3qdVTfAMTVbu",
        "outputId": "a209e8c6-cb37-462e-cb69-ef4c482ca043"
      },
      "outputs": [
        {
          "output_type": "execute_result",
          "data": {
            "text/plain": [
              "1"
            ]
          },
          "metadata": {},
          "execution_count": 308
        }
      ],
      "source": [
        "df.duplicated().sum()"
      ]
    },
    {
      "cell_type": "code",
      "execution_count": null,
      "metadata": {
        "id": "PJG6n4oTUdSX"
      },
      "outputs": [],
      "source": [
        "df.drop_duplicates(inplace=True)"
      ]
    },
    {
      "cell_type": "code",
      "execution_count": null,
      "metadata": {
        "colab": {
          "base_uri": "https://localhost:8080/"
        },
        "id": "g4uE0wiAUgLQ",
        "outputId": "ecefd160-d440-4cca-8def-3c7f817105c8"
      },
      "outputs": [
        {
          "output_type": "execute_result",
          "data": {
            "text/plain": [
              "0"
            ]
          },
          "metadata": {},
          "execution_count": 310
        }
      ],
      "source": [
        "df.duplicated().sum()"
      ]
    },
    {
      "cell_type": "code",
      "execution_count": null,
      "metadata": {
        "colab": {
          "base_uri": "https://localhost:8080/"
        },
        "id": "5vGkYE1cUl12",
        "outputId": "55ac14ad-62b3-40e2-eb7e-655a098a99f2"
      },
      "outputs": [
        {
          "output_type": "execute_result",
          "data": {
            "text/plain": [
              "Index(['age', 'sex', 'cp', 'trestbps', 'chol', 'fbs', 'restecg', 'thalach',\n",
              "       'exang', 'oldpeak', 'slope', 'ca', 'thal', 'num       '],\n",
              "      dtype='object')"
            ]
          },
          "metadata": {},
          "execution_count": 311
        }
      ],
      "source": [
        "df.columns"
      ]
    },
    {
      "cell_type": "code",
      "execution_count": null,
      "metadata": {
        "id": "iVf-6IEVVezn"
      },
      "outputs": [],
      "source": [
        "# Renaming column 'num' to 'target'\n",
        "df.rename(columns={'num       ': 'target'}, inplace=True)"
      ]
    },
    {
      "cell_type": "code",
      "execution_count": null,
      "metadata": {
        "colab": {
          "base_uri": "https://localhost:8080/",
          "height": 206
        },
        "id": "kjjeuXkyXJSe",
        "outputId": "7ce12253-c393-43ce-e614-42a9ef726c54"
      },
      "outputs": [
        {
          "output_type": "execute_result",
          "data": {
            "text/plain": [
              "   age  sex  cp trestbps chol fbs restecg thalach exang  oldpeak slope ca  \\\n",
              "0   28    1   2      130  132   0       2     185     0      0.0     ?  ?   \n",
              "1   29    1   2      120  243   0       0     160     0      0.0     ?  ?   \n",
              "2   29    1   2      140    ?   0       0     170     0      0.0     ?  ?   \n",
              "3   30    0   1      170  237   0       1     170     0      0.0     ?  ?   \n",
              "4   31    0   2      100  219   0       1     150     0      0.0     ?  ?   \n",
              "\n",
              "  thal  target  \n",
              "0    ?       0  \n",
              "1    ?       0  \n",
              "2    ?       0  \n",
              "3    6       0  \n",
              "4    ?       0  "
            ],
            "text/html": [
              "\n",
              "  <div id=\"df-ab026cdb-9e80-434f-9784-a82dc0952242\">\n",
              "    <div class=\"colab-df-container\">\n",
              "      <div>\n",
              "<style scoped>\n",
              "    .dataframe tbody tr th:only-of-type {\n",
              "        vertical-align: middle;\n",
              "    }\n",
              "\n",
              "    .dataframe tbody tr th {\n",
              "        vertical-align: top;\n",
              "    }\n",
              "\n",
              "    .dataframe thead th {\n",
              "        text-align: right;\n",
              "    }\n",
              "</style>\n",
              "<table border=\"1\" class=\"dataframe\">\n",
              "  <thead>\n",
              "    <tr style=\"text-align: right;\">\n",
              "      <th></th>\n",
              "      <th>age</th>\n",
              "      <th>sex</th>\n",
              "      <th>cp</th>\n",
              "      <th>trestbps</th>\n",
              "      <th>chol</th>\n",
              "      <th>fbs</th>\n",
              "      <th>restecg</th>\n",
              "      <th>thalach</th>\n",
              "      <th>exang</th>\n",
              "      <th>oldpeak</th>\n",
              "      <th>slope</th>\n",
              "      <th>ca</th>\n",
              "      <th>thal</th>\n",
              "      <th>target</th>\n",
              "    </tr>\n",
              "  </thead>\n",
              "  <tbody>\n",
              "    <tr>\n",
              "      <th>0</th>\n",
              "      <td>28</td>\n",
              "      <td>1</td>\n",
              "      <td>2</td>\n",
              "      <td>130</td>\n",
              "      <td>132</td>\n",
              "      <td>0</td>\n",
              "      <td>2</td>\n",
              "      <td>185</td>\n",
              "      <td>0</td>\n",
              "      <td>0.0</td>\n",
              "      <td>?</td>\n",
              "      <td>?</td>\n",
              "      <td>?</td>\n",
              "      <td>0</td>\n",
              "    </tr>\n",
              "    <tr>\n",
              "      <th>1</th>\n",
              "      <td>29</td>\n",
              "      <td>1</td>\n",
              "      <td>2</td>\n",
              "      <td>120</td>\n",
              "      <td>243</td>\n",
              "      <td>0</td>\n",
              "      <td>0</td>\n",
              "      <td>160</td>\n",
              "      <td>0</td>\n",
              "      <td>0.0</td>\n",
              "      <td>?</td>\n",
              "      <td>?</td>\n",
              "      <td>?</td>\n",
              "      <td>0</td>\n",
              "    </tr>\n",
              "    <tr>\n",
              "      <th>2</th>\n",
              "      <td>29</td>\n",
              "      <td>1</td>\n",
              "      <td>2</td>\n",
              "      <td>140</td>\n",
              "      <td>?</td>\n",
              "      <td>0</td>\n",
              "      <td>0</td>\n",
              "      <td>170</td>\n",
              "      <td>0</td>\n",
              "      <td>0.0</td>\n",
              "      <td>?</td>\n",
              "      <td>?</td>\n",
              "      <td>?</td>\n",
              "      <td>0</td>\n",
              "    </tr>\n",
              "    <tr>\n",
              "      <th>3</th>\n",
              "      <td>30</td>\n",
              "      <td>0</td>\n",
              "      <td>1</td>\n",
              "      <td>170</td>\n",
              "      <td>237</td>\n",
              "      <td>0</td>\n",
              "      <td>1</td>\n",
              "      <td>170</td>\n",
              "      <td>0</td>\n",
              "      <td>0.0</td>\n",
              "      <td>?</td>\n",
              "      <td>?</td>\n",
              "      <td>6</td>\n",
              "      <td>0</td>\n",
              "    </tr>\n",
              "    <tr>\n",
              "      <th>4</th>\n",
              "      <td>31</td>\n",
              "      <td>0</td>\n",
              "      <td>2</td>\n",
              "      <td>100</td>\n",
              "      <td>219</td>\n",
              "      <td>0</td>\n",
              "      <td>1</td>\n",
              "      <td>150</td>\n",
              "      <td>0</td>\n",
              "      <td>0.0</td>\n",
              "      <td>?</td>\n",
              "      <td>?</td>\n",
              "      <td>?</td>\n",
              "      <td>0</td>\n",
              "    </tr>\n",
              "  </tbody>\n",
              "</table>\n",
              "</div>\n",
              "      <button class=\"colab-df-convert\" onclick=\"convertToInteractive('df-ab026cdb-9e80-434f-9784-a82dc0952242')\"\n",
              "              title=\"Convert this dataframe to an interactive table.\"\n",
              "              style=\"display:none;\">\n",
              "        \n",
              "  <svg xmlns=\"http://www.w3.org/2000/svg\" height=\"24px\"viewBox=\"0 0 24 24\"\n",
              "       width=\"24px\">\n",
              "    <path d=\"M0 0h24v24H0V0z\" fill=\"none\"/>\n",
              "    <path d=\"M18.56 5.44l.94 2.06.94-2.06 2.06-.94-2.06-.94-.94-2.06-.94 2.06-2.06.94zm-11 1L8.5 8.5l.94-2.06 2.06-.94-2.06-.94L8.5 2.5l-.94 2.06-2.06.94zm10 10l.94 2.06.94-2.06 2.06-.94-2.06-.94-.94-2.06-.94 2.06-2.06.94z\"/><path d=\"M17.41 7.96l-1.37-1.37c-.4-.4-.92-.59-1.43-.59-.52 0-1.04.2-1.43.59L10.3 9.45l-7.72 7.72c-.78.78-.78 2.05 0 2.83L4 21.41c.39.39.9.59 1.41.59.51 0 1.02-.2 1.41-.59l7.78-7.78 2.81-2.81c.8-.78.8-2.07 0-2.86zM5.41 20L4 18.59l7.72-7.72 1.47 1.35L5.41 20z\"/>\n",
              "  </svg>\n",
              "      </button>\n",
              "      \n",
              "  <style>\n",
              "    .colab-df-container {\n",
              "      display:flex;\n",
              "      flex-wrap:wrap;\n",
              "      gap: 12px;\n",
              "    }\n",
              "\n",
              "    .colab-df-convert {\n",
              "      background-color: #E8F0FE;\n",
              "      border: none;\n",
              "      border-radius: 50%;\n",
              "      cursor: pointer;\n",
              "      display: none;\n",
              "      fill: #1967D2;\n",
              "      height: 32px;\n",
              "      padding: 0 0 0 0;\n",
              "      width: 32px;\n",
              "    }\n",
              "\n",
              "    .colab-df-convert:hover {\n",
              "      background-color: #E2EBFA;\n",
              "      box-shadow: 0px 1px 2px rgba(60, 64, 67, 0.3), 0px 1px 3px 1px rgba(60, 64, 67, 0.15);\n",
              "      fill: #174EA6;\n",
              "    }\n",
              "\n",
              "    [theme=dark] .colab-df-convert {\n",
              "      background-color: #3B4455;\n",
              "      fill: #D2E3FC;\n",
              "    }\n",
              "\n",
              "    [theme=dark] .colab-df-convert:hover {\n",
              "      background-color: #434B5C;\n",
              "      box-shadow: 0px 1px 3px 1px rgba(0, 0, 0, 0.15);\n",
              "      filter: drop-shadow(0px 1px 2px rgba(0, 0, 0, 0.3));\n",
              "      fill: #FFFFFF;\n",
              "    }\n",
              "  </style>\n",
              "\n",
              "      <script>\n",
              "        const buttonEl =\n",
              "          document.querySelector('#df-ab026cdb-9e80-434f-9784-a82dc0952242 button.colab-df-convert');\n",
              "        buttonEl.style.display =\n",
              "          google.colab.kernel.accessAllowed ? 'block' : 'none';\n",
              "\n",
              "        async function convertToInteractive(key) {\n",
              "          const element = document.querySelector('#df-ab026cdb-9e80-434f-9784-a82dc0952242');\n",
              "          const dataTable =\n",
              "            await google.colab.kernel.invokeFunction('convertToInteractive',\n",
              "                                                     [key], {});\n",
              "          if (!dataTable) return;\n",
              "\n",
              "          const docLinkHtml = 'Like what you see? Visit the ' +\n",
              "            '<a target=\"_blank\" href=https://colab.research.google.com/notebooks/data_table.ipynb>data table notebook</a>'\n",
              "            + ' to learn more about interactive tables.';\n",
              "          element.innerHTML = '';\n",
              "          dataTable['output_type'] = 'display_data';\n",
              "          await google.colab.output.renderOutput(dataTable, element);\n",
              "          const docLink = document.createElement('div');\n",
              "          docLink.innerHTML = docLinkHtml;\n",
              "          element.appendChild(docLink);\n",
              "        }\n",
              "      </script>\n",
              "    </div>\n",
              "  </div>\n",
              "  "
            ]
          },
          "metadata": {},
          "execution_count": 313
        }
      ],
      "source": [
        "df.head()"
      ]
    },
    {
      "cell_type": "markdown",
      "metadata": {
        "id": "LyBEDLLjXaeO"
      },
      "source": [
        "we can see that there are question marks in some columns so we will replace it with null"
      ]
    },
    {
      "cell_type": "code",
      "execution_count": null,
      "metadata": {
        "colab": {
          "base_uri": "https://localhost:8080/",
          "height": 424
        },
        "id": "tIBrToZmXNA2",
        "outputId": "45c0b971-27f7-4fd8-c4fc-f3dbbddb133d"
      },
      "outputs": [
        {
          "output_type": "execute_result",
          "data": {
            "text/plain": [
              "     age  sex  cp trestbps chol fbs restecg thalach exang  oldpeak slope   ca  \\\n",
              "0     28    1   2      130  132   0       2     185     0      0.0   NaN  NaN   \n",
              "1     29    1   2      120  243   0       0     160     0      0.0   NaN  NaN   \n",
              "2     29    1   2      140  NaN   0       0     170     0      0.0   NaN  NaN   \n",
              "3     30    0   1      170  237   0       1     170     0      0.0   NaN  NaN   \n",
              "4     31    0   2      100  219   0       1     150     0      0.0   NaN  NaN   \n",
              "..   ...  ...  ..      ...  ...  ..     ...     ...   ...      ...   ...  ...   \n",
              "289   52    1   4      160  331   0       0      94     1      2.5   NaN  NaN   \n",
              "290   54    0   3      130  294   0       1     100     1      0.0     2  NaN   \n",
              "291   56    1   4      155  342   1       0     150     1      3.0     2  NaN   \n",
              "292   58    0   2      180  393   0       0     110     1      1.0     2  NaN   \n",
              "293   65    1   4      130  275   0       1     115     1      1.0     2  NaN   \n",
              "\n",
              "    thal  target  \n",
              "0    NaN       0  \n",
              "1    NaN       0  \n",
              "2    NaN       0  \n",
              "3      6       0  \n",
              "4    NaN       0  \n",
              "..   ...     ...  \n",
              "289  NaN       1  \n",
              "290  NaN       1  \n",
              "291  NaN       1  \n",
              "292    7       1  \n",
              "293  NaN       1  \n",
              "\n",
              "[293 rows x 14 columns]"
            ],
            "text/html": [
              "\n",
              "  <div id=\"df-39ee2ab4-35c1-46b4-b521-aeb86156fd2a\">\n",
              "    <div class=\"colab-df-container\">\n",
              "      <div>\n",
              "<style scoped>\n",
              "    .dataframe tbody tr th:only-of-type {\n",
              "        vertical-align: middle;\n",
              "    }\n",
              "\n",
              "    .dataframe tbody tr th {\n",
              "        vertical-align: top;\n",
              "    }\n",
              "\n",
              "    .dataframe thead th {\n",
              "        text-align: right;\n",
              "    }\n",
              "</style>\n",
              "<table border=\"1\" class=\"dataframe\">\n",
              "  <thead>\n",
              "    <tr style=\"text-align: right;\">\n",
              "      <th></th>\n",
              "      <th>age</th>\n",
              "      <th>sex</th>\n",
              "      <th>cp</th>\n",
              "      <th>trestbps</th>\n",
              "      <th>chol</th>\n",
              "      <th>fbs</th>\n",
              "      <th>restecg</th>\n",
              "      <th>thalach</th>\n",
              "      <th>exang</th>\n",
              "      <th>oldpeak</th>\n",
              "      <th>slope</th>\n",
              "      <th>ca</th>\n",
              "      <th>thal</th>\n",
              "      <th>target</th>\n",
              "    </tr>\n",
              "  </thead>\n",
              "  <tbody>\n",
              "    <tr>\n",
              "      <th>0</th>\n",
              "      <td>28</td>\n",
              "      <td>1</td>\n",
              "      <td>2</td>\n",
              "      <td>130</td>\n",
              "      <td>132</td>\n",
              "      <td>0</td>\n",
              "      <td>2</td>\n",
              "      <td>185</td>\n",
              "      <td>0</td>\n",
              "      <td>0.0</td>\n",
              "      <td>NaN</td>\n",
              "      <td>NaN</td>\n",
              "      <td>NaN</td>\n",
              "      <td>0</td>\n",
              "    </tr>\n",
              "    <tr>\n",
              "      <th>1</th>\n",
              "      <td>29</td>\n",
              "      <td>1</td>\n",
              "      <td>2</td>\n",
              "      <td>120</td>\n",
              "      <td>243</td>\n",
              "      <td>0</td>\n",
              "      <td>0</td>\n",
              "      <td>160</td>\n",
              "      <td>0</td>\n",
              "      <td>0.0</td>\n",
              "      <td>NaN</td>\n",
              "      <td>NaN</td>\n",
              "      <td>NaN</td>\n",
              "      <td>0</td>\n",
              "    </tr>\n",
              "    <tr>\n",
              "      <th>2</th>\n",
              "      <td>29</td>\n",
              "      <td>1</td>\n",
              "      <td>2</td>\n",
              "      <td>140</td>\n",
              "      <td>NaN</td>\n",
              "      <td>0</td>\n",
              "      <td>0</td>\n",
              "      <td>170</td>\n",
              "      <td>0</td>\n",
              "      <td>0.0</td>\n",
              "      <td>NaN</td>\n",
              "      <td>NaN</td>\n",
              "      <td>NaN</td>\n",
              "      <td>0</td>\n",
              "    </tr>\n",
              "    <tr>\n",
              "      <th>3</th>\n",
              "      <td>30</td>\n",
              "      <td>0</td>\n",
              "      <td>1</td>\n",
              "      <td>170</td>\n",
              "      <td>237</td>\n",
              "      <td>0</td>\n",
              "      <td>1</td>\n",
              "      <td>170</td>\n",
              "      <td>0</td>\n",
              "      <td>0.0</td>\n",
              "      <td>NaN</td>\n",
              "      <td>NaN</td>\n",
              "      <td>6</td>\n",
              "      <td>0</td>\n",
              "    </tr>\n",
              "    <tr>\n",
              "      <th>4</th>\n",
              "      <td>31</td>\n",
              "      <td>0</td>\n",
              "      <td>2</td>\n",
              "      <td>100</td>\n",
              "      <td>219</td>\n",
              "      <td>0</td>\n",
              "      <td>1</td>\n",
              "      <td>150</td>\n",
              "      <td>0</td>\n",
              "      <td>0.0</td>\n",
              "      <td>NaN</td>\n",
              "      <td>NaN</td>\n",
              "      <td>NaN</td>\n",
              "      <td>0</td>\n",
              "    </tr>\n",
              "    <tr>\n",
              "      <th>...</th>\n",
              "      <td>...</td>\n",
              "      <td>...</td>\n",
              "      <td>...</td>\n",
              "      <td>...</td>\n",
              "      <td>...</td>\n",
              "      <td>...</td>\n",
              "      <td>...</td>\n",
              "      <td>...</td>\n",
              "      <td>...</td>\n",
              "      <td>...</td>\n",
              "      <td>...</td>\n",
              "      <td>...</td>\n",
              "      <td>...</td>\n",
              "      <td>...</td>\n",
              "    </tr>\n",
              "    <tr>\n",
              "      <th>289</th>\n",
              "      <td>52</td>\n",
              "      <td>1</td>\n",
              "      <td>4</td>\n",
              "      <td>160</td>\n",
              "      <td>331</td>\n",
              "      <td>0</td>\n",
              "      <td>0</td>\n",
              "      <td>94</td>\n",
              "      <td>1</td>\n",
              "      <td>2.5</td>\n",
              "      <td>NaN</td>\n",
              "      <td>NaN</td>\n",
              "      <td>NaN</td>\n",
              "      <td>1</td>\n",
              "    </tr>\n",
              "    <tr>\n",
              "      <th>290</th>\n",
              "      <td>54</td>\n",
              "      <td>0</td>\n",
              "      <td>3</td>\n",
              "      <td>130</td>\n",
              "      <td>294</td>\n",
              "      <td>0</td>\n",
              "      <td>1</td>\n",
              "      <td>100</td>\n",
              "      <td>1</td>\n",
              "      <td>0.0</td>\n",
              "      <td>2</td>\n",
              "      <td>NaN</td>\n",
              "      <td>NaN</td>\n",
              "      <td>1</td>\n",
              "    </tr>\n",
              "    <tr>\n",
              "      <th>291</th>\n",
              "      <td>56</td>\n",
              "      <td>1</td>\n",
              "      <td>4</td>\n",
              "      <td>155</td>\n",
              "      <td>342</td>\n",
              "      <td>1</td>\n",
              "      <td>0</td>\n",
              "      <td>150</td>\n",
              "      <td>1</td>\n",
              "      <td>3.0</td>\n",
              "      <td>2</td>\n",
              "      <td>NaN</td>\n",
              "      <td>NaN</td>\n",
              "      <td>1</td>\n",
              "    </tr>\n",
              "    <tr>\n",
              "      <th>292</th>\n",
              "      <td>58</td>\n",
              "      <td>0</td>\n",
              "      <td>2</td>\n",
              "      <td>180</td>\n",
              "      <td>393</td>\n",
              "      <td>0</td>\n",
              "      <td>0</td>\n",
              "      <td>110</td>\n",
              "      <td>1</td>\n",
              "      <td>1.0</td>\n",
              "      <td>2</td>\n",
              "      <td>NaN</td>\n",
              "      <td>7</td>\n",
              "      <td>1</td>\n",
              "    </tr>\n",
              "    <tr>\n",
              "      <th>293</th>\n",
              "      <td>65</td>\n",
              "      <td>1</td>\n",
              "      <td>4</td>\n",
              "      <td>130</td>\n",
              "      <td>275</td>\n",
              "      <td>0</td>\n",
              "      <td>1</td>\n",
              "      <td>115</td>\n",
              "      <td>1</td>\n",
              "      <td>1.0</td>\n",
              "      <td>2</td>\n",
              "      <td>NaN</td>\n",
              "      <td>NaN</td>\n",
              "      <td>1</td>\n",
              "    </tr>\n",
              "  </tbody>\n",
              "</table>\n",
              "<p>293 rows × 14 columns</p>\n",
              "</div>\n",
              "      <button class=\"colab-df-convert\" onclick=\"convertToInteractive('df-39ee2ab4-35c1-46b4-b521-aeb86156fd2a')\"\n",
              "              title=\"Convert this dataframe to an interactive table.\"\n",
              "              style=\"display:none;\">\n",
              "        \n",
              "  <svg xmlns=\"http://www.w3.org/2000/svg\" height=\"24px\"viewBox=\"0 0 24 24\"\n",
              "       width=\"24px\">\n",
              "    <path d=\"M0 0h24v24H0V0z\" fill=\"none\"/>\n",
              "    <path d=\"M18.56 5.44l.94 2.06.94-2.06 2.06-.94-2.06-.94-.94-2.06-.94 2.06-2.06.94zm-11 1L8.5 8.5l.94-2.06 2.06-.94-2.06-.94L8.5 2.5l-.94 2.06-2.06.94zm10 10l.94 2.06.94-2.06 2.06-.94-2.06-.94-.94-2.06-.94 2.06-2.06.94z\"/><path d=\"M17.41 7.96l-1.37-1.37c-.4-.4-.92-.59-1.43-.59-.52 0-1.04.2-1.43.59L10.3 9.45l-7.72 7.72c-.78.78-.78 2.05 0 2.83L4 21.41c.39.39.9.59 1.41.59.51 0 1.02-.2 1.41-.59l7.78-7.78 2.81-2.81c.8-.78.8-2.07 0-2.86zM5.41 20L4 18.59l7.72-7.72 1.47 1.35L5.41 20z\"/>\n",
              "  </svg>\n",
              "      </button>\n",
              "      \n",
              "  <style>\n",
              "    .colab-df-container {\n",
              "      display:flex;\n",
              "      flex-wrap:wrap;\n",
              "      gap: 12px;\n",
              "    }\n",
              "\n",
              "    .colab-df-convert {\n",
              "      background-color: #E8F0FE;\n",
              "      border: none;\n",
              "      border-radius: 50%;\n",
              "      cursor: pointer;\n",
              "      display: none;\n",
              "      fill: #1967D2;\n",
              "      height: 32px;\n",
              "      padding: 0 0 0 0;\n",
              "      width: 32px;\n",
              "    }\n",
              "\n",
              "    .colab-df-convert:hover {\n",
              "      background-color: #E2EBFA;\n",
              "      box-shadow: 0px 1px 2px rgba(60, 64, 67, 0.3), 0px 1px 3px 1px rgba(60, 64, 67, 0.15);\n",
              "      fill: #174EA6;\n",
              "    }\n",
              "\n",
              "    [theme=dark] .colab-df-convert {\n",
              "      background-color: #3B4455;\n",
              "      fill: #D2E3FC;\n",
              "    }\n",
              "\n",
              "    [theme=dark] .colab-df-convert:hover {\n",
              "      background-color: #434B5C;\n",
              "      box-shadow: 0px 1px 3px 1px rgba(0, 0, 0, 0.15);\n",
              "      filter: drop-shadow(0px 1px 2px rgba(0, 0, 0, 0.3));\n",
              "      fill: #FFFFFF;\n",
              "    }\n",
              "  </style>\n",
              "\n",
              "      <script>\n",
              "        const buttonEl =\n",
              "          document.querySelector('#df-39ee2ab4-35c1-46b4-b521-aeb86156fd2a button.colab-df-convert');\n",
              "        buttonEl.style.display =\n",
              "          google.colab.kernel.accessAllowed ? 'block' : 'none';\n",
              "\n",
              "        async function convertToInteractive(key) {\n",
              "          const element = document.querySelector('#df-39ee2ab4-35c1-46b4-b521-aeb86156fd2a');\n",
              "          const dataTable =\n",
              "            await google.colab.kernel.invokeFunction('convertToInteractive',\n",
              "                                                     [key], {});\n",
              "          if (!dataTable) return;\n",
              "\n",
              "          const docLinkHtml = 'Like what you see? Visit the ' +\n",
              "            '<a target=\"_blank\" href=https://colab.research.google.com/notebooks/data_table.ipynb>data table notebook</a>'\n",
              "            + ' to learn more about interactive tables.';\n",
              "          element.innerHTML = '';\n",
              "          dataTable['output_type'] = 'display_data';\n",
              "          await google.colab.output.renderOutput(dataTable, element);\n",
              "          const docLink = document.createElement('div');\n",
              "          docLink.innerHTML = docLinkHtml;\n",
              "          element.appendChild(docLink);\n",
              "        }\n",
              "      </script>\n",
              "    </div>\n",
              "  </div>\n",
              "  "
            ]
          },
          "metadata": {},
          "execution_count": 314
        }
      ],
      "source": [
        "df.replace(\"?\", np.nan, inplace=True)\n",
        "df"
      ]
    },
    {
      "cell_type": "code",
      "execution_count": null,
      "metadata": {
        "colab": {
          "base_uri": "https://localhost:8080/"
        },
        "id": "gkyjlzyAY7VQ",
        "outputId": "93178dd8-04b6-4fec-af5c-59e03e78b850"
      },
      "outputs": [
        {
          "output_type": "execute_result",
          "data": {
            "text/plain": [
              "age           int64\n",
              "sex           int64\n",
              "cp            int64\n",
              "trestbps     object\n",
              "chol         object\n",
              "fbs          object\n",
              "restecg      object\n",
              "thalach      object\n",
              "exang        object\n",
              "oldpeak     float64\n",
              "slope        object\n",
              "ca           object\n",
              "thal         object\n",
              "target        int64\n",
              "dtype: object"
            ]
          },
          "metadata": {},
          "execution_count": 315
        }
      ],
      "source": [
        "df.dtypes"
      ]
    },
    {
      "cell_type": "code",
      "execution_count": null,
      "metadata": {
        "id": "hAJRRntmZJQZ"
      },
      "outputs": [],
      "source": [
        "#CHANGING OBJECT COLUMNS TO FLOAT\n",
        "df = df.astype({'trestbps':'float64',\n",
        "                'chol': 'float64',\n",
        "                'fbs': 'float64',\n",
        "                'restecg': 'float64',\n",
        "                'thalach': 'float64',\n",
        "                'exang': 'float64',\n",
        "                'slope': 'float64',\n",
        "                'thal' : 'float64'})"
      ]
    },
    {
      "cell_type": "code",
      "execution_count": null,
      "metadata": {
        "colab": {
          "base_uri": "https://localhost:8080/"
        },
        "id": "FkPDOGWOZpld",
        "outputId": "d55d317c-8155-403e-a585-aec89978a1d3"
      },
      "outputs": [
        {
          "output_type": "execute_result",
          "data": {
            "text/plain": [
              "0"
            ]
          },
          "metadata": {},
          "execution_count": 317
        }
      ],
      "source": [
        "df.age.isnull().sum()"
      ]
    },
    {
      "cell_type": "code",
      "source": [
        "sns.set_style(\"whitegrid\")"
      ],
      "metadata": {
        "id": "NSkR3d19PqAY"
      },
      "execution_count": null,
      "outputs": []
    },
    {
      "cell_type": "code",
      "execution_count": null,
      "metadata": {
        "colab": {
          "base_uri": "https://localhost:8080/",
          "height": 295
        },
        "id": "GAqbT7m5ZwR_",
        "outputId": "576fd6dd-3cbd-4040-f2e6-9979a2fd6f41"
      },
      "outputs": [
        {
          "output_type": "display_data",
          "data": {
            "text/plain": [
              "<Figure size 432x288 with 1 Axes>"
            ],
            "image/png": "[encoded data removed]"
          },
          "metadata": {}
        }
      ],
      "source": [
        "#HEART ATTACK DISTRIBUTION\n",
        "attack_data = df[df.target==1]\n",
        "ax= sns.distplot(attack_data.age, color='red' )\n",
        "plt.title(\"AGE DISTRIBUTION\")\n",
        "plt.show()"
      ]
    },
    {
      "cell_type": "code",
      "execution_count": null,
      "metadata": {
        "colab": {
          "base_uri": "https://localhost:8080/",
          "height": 295
        },
        "id": "M9Q7r0_wZ8ZY",
        "outputId": "2e8fe596-8cbf-4672-c507-d760d070db12"
      },
      "outputs": [
        {
          "output_type": "display_data",
          "data": {
            "text/plain": [
              "<Figure size 432x288 with 1 Axes>"
            ],
            "image/png": "[encoded data removed]"
          },
          "metadata": {}
        }
      ],
      "source": [
        "fig1 = plt.figure()\n",
        "ax1 = fig1.add_subplot(1, 1, 1)\n",
        "plt.title(\"Age & Heart attack relation\")\n",
        "sns.kdeplot(data=df[df.target==1],x='age',hue = \"target\", shade=True,ax = ax1 ,color='blue',alpha=1)\n",
        "sns.kdeplot(data=df[df.target==0],x='age',shade=True,ax = ax1,color='red',alpha=0.3);"
      ]
    },
    {
      "cell_type": "markdown",
      "metadata": {
        "id": "2nJYYJzNcK6e"
      },
      "source": [
        "### Removing Null values"
      ]
    },
    {
      "cell_type": "code",
      "execution_count": null,
      "metadata": {
        "colab": {
          "base_uri": "https://localhost:8080/"
        },
        "id": "vkheGJh6b70k",
        "outputId": "9cb11e67-d0ba-4aa7-a0d4-fe75fe153906"
      },
      "outputs": [
        {
          "output_type": "execute_result",
          "data": {
            "text/plain": [
              "Index(['age', 'sex', 'cp', 'trestbps', 'chol', 'fbs', 'restecg', 'thalach',\n",
              "       'exang', 'oldpeak', 'slope', 'ca', 'thal', 'target'],\n",
              "      dtype='object')"
            ]
          },
          "metadata": {},
          "execution_count": 321
        }
      ],
      "source": [
        "df.columns"
      ]
    },
    {
      "cell_type": "code",
      "execution_count": null,
      "metadata": {
        "colab": {
          "base_uri": "https://localhost:8080/"
        },
        "id": "loLoZvzLq-jU",
        "outputId": "69e8b2c8-aeaa-480d-9a75-1580dc3c796e"
      },
      "outputs": [
        {
          "output_type": "execute_result",
          "data": {
            "text/plain": [
              "age           0\n",
              "sex           0\n",
              "cp            0\n",
              "trestbps      1\n",
              "chol         22\n",
              "fbs           8\n",
              "restecg       1\n",
              "thalach       1\n",
              "exang         1\n",
              "oldpeak       0\n",
              "slope       189\n",
              "ca          290\n",
              "thal        265\n",
              "target        0\n",
              "dtype: int64"
            ]
          },
          "metadata": {},
          "execution_count": 322
        }
      ],
      "source": [
        "df.isnull().sum()"
      ]
    },
    {
      "cell_type": "code",
      "execution_count": null,
      "metadata": {
        "id": "yZL9Kwd6cufT"
      },
      "outputs": [],
      "source": [
        "df.trestbps.fillna(df[\"trestbps\"].mean(), inplace=True)"
      ]
    },
    {
      "cell_type": "code",
      "execution_count": null,
      "metadata": {
        "colab": {
          "base_uri": "https://localhost:8080/"
        },
        "id": "zDQQ8jm6dYxz",
        "outputId": "1ae2a690-f1fd-4e0d-b2ff-e881fcb9b3fa"
      },
      "outputs": [
        {
          "output_type": "execute_result",
          "data": {
            "text/plain": [
              "0"
            ]
          },
          "metadata": {},
          "execution_count": 324
        }
      ],
      "source": [
        "df.trestbps.isnull().sum()"
      ]
    },
    {
      "cell_type": "code",
      "execution_count": null,
      "metadata": {
        "id": "HEy4KNw3dk04"
      },
      "outputs": [],
      "source": [
        "df.chol.fillna(df[\"chol\"].mean(), inplace=True)"
      ]
    },
    {
      "cell_type": "code",
      "execution_count": null,
      "metadata": {
        "colab": {
          "base_uri": "https://localhost:8080/"
        },
        "id": "TixwrFSRd3cW",
        "outputId": "610b3495-d03a-4f26-b3f2-7e55064ada72"
      },
      "outputs": [
        {
          "output_type": "execute_result",
          "data": {
            "text/plain": [
              "0"
            ]
          },
          "metadata": {},
          "execution_count": 326
        }
      ],
      "source": [
        "df.chol.isnull().sum()"
      ]
    },
    {
      "cell_type": "code",
      "execution_count": null,
      "metadata": {
        "colab": {
          "base_uri": "https://localhost:8080/"
        },
        "id": "RYb5AdjNeJjK",
        "outputId": "da28338b-4257-4c23-ff28-aa6c8dcf23ff"
      },
      "outputs": [
        {
          "output_type": "execute_result",
          "data": {
            "text/plain": [
              "array([ 0., nan,  1.])"
            ]
          },
          "metadata": {},
          "execution_count": 327
        }
      ],
      "source": [
        "df.fbs.unique()"
      ]
    },
    {
      "cell_type": "code",
      "execution_count": null,
      "metadata": {
        "id": "7IYg9pSYeVX7"
      },
      "outputs": [],
      "source": [
        "df.fbs.fillna(0, inplace=True) #mode value is 0"
      ]
    },
    {
      "cell_type": "code",
      "execution_count": null,
      "metadata": {
        "colab": {
          "base_uri": "https://localhost:8080/"
        },
        "id": "IXogBf9Lepe3",
        "outputId": "0bba0078-b1b7-417e-86c3-14a9b39b5e79"
      },
      "outputs": [
        {
          "output_type": "execute_result",
          "data": {
            "text/plain": [
              "0"
            ]
          },
          "metadata": {},
          "execution_count": 329
        }
      ],
      "source": [
        "df.fbs.isnull().sum()"
      ]
    },
    {
      "cell_type": "code",
      "execution_count": null,
      "metadata": {
        "colab": {
          "base_uri": "https://localhost:8080/"
        },
        "id": "1dxXk2TYjmD6",
        "outputId": "a0ecd69c-2435-464d-97bd-44f880aaef6d"
      },
      "outputs": [
        {
          "output_type": "execute_result",
          "data": {
            "text/plain": [
              "0    0.0\n",
              "dtype: float64"
            ]
          },
          "metadata": {},
          "execution_count": 330
        }
      ],
      "source": [
        "df.restecg.mode()"
      ]
    },
    {
      "cell_type": "code",
      "execution_count": null,
      "metadata": {
        "id": "-4AfQvJKjds0"
      },
      "outputs": [],
      "source": [
        "df.restecg.fillna(0, inplace=True)"
      ]
    },
    {
      "cell_type": "code",
      "execution_count": null,
      "metadata": {
        "id": "p0S51oukn4PF"
      },
      "outputs": [],
      "source": [
        "df.thalach.fillna(df[\"thalach\"].median(), inplace=True)"
      ]
    },
    {
      "cell_type": "code",
      "execution_count": null,
      "metadata": {
        "colab": {
          "base_uri": "https://localhost:8080/"
        },
        "id": "unRxYS_Mn9Nn",
        "outputId": "53b65801-cfd4-43ed-8ffd-c786b8c22a53"
      },
      "outputs": [
        {
          "output_type": "execute_result",
          "data": {
            "text/plain": [
              "1"
            ]
          },
          "metadata": {},
          "execution_count": 333
        }
      ],
      "source": [
        "df.exang.isnull().sum()"
      ]
    },
    {
      "cell_type": "code",
      "execution_count": null,
      "metadata": {
        "colab": {
          "base_uri": "https://localhost:8080/"
        },
        "id": "ewUTINceo3Nz",
        "outputId": "e8c96fc1-1e4e-4516-bdbc-13ae966920ec"
      },
      "outputs": [
        {
          "output_type": "execute_result",
          "data": {
            "text/plain": [
              "0.0    203\n",
              "1.0     89\n",
              "NaN      1\n",
              "Name: exang, dtype: int64"
            ]
          },
          "metadata": {},
          "execution_count": 334
        }
      ],
      "source": [
        "df.exang.value_counts(dropna=False)"
      ]
    },
    {
      "cell_type": "code",
      "execution_count": null,
      "metadata": {
        "id": "gtP5OCCwuQkf"
      },
      "outputs": [],
      "source": [
        "df.exang.fillna(0, inplace=True)"
      ]
    },
    {
      "cell_type": "code",
      "execution_count": null,
      "metadata": {
        "colab": {
          "base_uri": "https://localhost:8080/"
        },
        "id": "Tymawtxcup3Z",
        "outputId": "397b5ba5-ccf7-49b1-9894-35f5c1631434"
      },
      "outputs": [
        {
          "output_type": "execute_result",
          "data": {
            "text/plain": [
              "189"
            ]
          },
          "metadata": {},
          "execution_count": 336
        }
      ],
      "source": [
        "df.slope.isnull().sum()"
      ]
    },
    {
      "cell_type": "code",
      "execution_count": null,
      "metadata": {
        "colab": {
          "base_uri": "https://localhost:8080/"
        },
        "id": "YtYnyl2Buxd3",
        "outputId": "ff9fd44d-78be-4cd4-ea20-3c1b64a02e9e"
      },
      "outputs": [
        {
          "output_type": "execute_result",
          "data": {
            "text/plain": [
              "290"
            ]
          },
          "metadata": {},
          "execution_count": 337
        }
      ],
      "source": [
        "df.ca.isnull().sum() "
      ]
    },
    {
      "cell_type": "code",
      "execution_count": null,
      "metadata": {
        "colab": {
          "base_uri": "https://localhost:8080/"
        },
        "id": "uaPU8IUhx5Kb",
        "outputId": "482db50f-7501-48bf-dcd2-18d5fbacfabb"
      },
      "outputs": [
        {
          "output_type": "execute_result",
          "data": {
            "text/plain": [
              "265"
            ]
          },
          "metadata": {},
          "execution_count": 338
        }
      ],
      "source": [
        "df.thal.isnull().sum() "
      ]
    },
    {
      "cell_type": "code",
      "execution_count": null,
      "metadata": {
        "id": "XjJzi_4Ux-Bq"
      },
      "outputs": [],
      "source": [
        "df.drop(columns= [\"slope\",\"ca\",\"thal\"], inplace=True)"
      ]
    },
    {
      "cell_type": "code",
      "execution_count": null,
      "metadata": {
        "colab": {
          "base_uri": "https://localhost:8080/"
        },
        "id": "a0xky_rGyBtg",
        "outputId": "1075509f-e52d-435d-a6c0-a1d2a4bf8ea0"
      },
      "outputs": [
        {
          "output_type": "execute_result",
          "data": {
            "text/plain": [
              "age         0\n",
              "sex         0\n",
              "cp          0\n",
              "trestbps    0\n",
              "chol        0\n",
              "fbs         0\n",
              "restecg     0\n",
              "thalach     0\n",
              "exang       0\n",
              "oldpeak     0\n",
              "target      0\n",
              "dtype: int64"
            ]
          },
          "metadata": {},
          "execution_count": 340
        }
      ],
      "source": [
        "df.isnull().sum()"
      ]
    },
    {
      "cell_type": "code",
      "source": [
        "numerical= df.drop(['target'], axis=1).select_dtypes('number').columns\n",
        "index = 0\n",
        "plt.figure(figsize=(20,20))\n",
        "for feature in numerical:\n",
        "    if feature != \"target\":\n",
        "        index += 1\n",
        "        plt.subplot(4, 3, index)\n",
        "        sns.boxplot(x='target', y=feature, data=df)"
      ],
      "metadata": {
        "colab": {
          "base_uri": "https://localhost:8080/",
          "height": 1000
        },
        "id": "iUVFTGrDWq2O",
        "outputId": "843040e7-5c5c-4c75-e97c-5bc7ff40791d"
      },
      "execution_count": null,
      "outputs": [
        {
          "output_type": "display_data",
          "data": {
            "text/plain": [
              "<Figure size 1440x1440 with 10 Axes>"
            ],
            "image/png": "[encoded data removed]"
          },
          "metadata": {}
        }
      ]
    },
    {
      "cell_type": "code",
      "execution_count": null,
      "metadata": {
        "colab": {
          "base_uri": "https://localhost:8080/",
          "height": 265
        },
        "id": "51ehTSbm_s2I",
        "outputId": "0f2bc9a0-e295-41b1-b090-ad007a5ab1ff"
      },
      "outputs": [
        {
          "output_type": "display_data",
          "data": {
            "text/plain": [
              "<Figure size 432x288 with 1 Axes>"
            ],
            "image/png": "[encoded data removed]"
          },
          "metadata": {}
        }
      ],
      "source": [
        "df.corr()['target'].sort_values().drop('target').plot(kind = 'barh', color=\"black\");\n",
        "# Correlation of the target column with other columns"
      ]
    },
    {
      "cell_type": "code",
      "execution_count": null,
      "metadata": {
        "id": "8dO4jsYtLUVv"
      },
      "outputs": [],
      "source": [
        "from sklearn.metrics import confusion_matrix, classification_report, plot_confusion_matrix \n",
        "from sklearn.metrics import accuracy_score, recall_score, precision_score, f1_score, roc_auc_score\n",
        "from sklearn.metrics import plot_roc_curve, plot_precision_recall_curve, auc, roc_curve, average_precision_score, precision_recall_curve\n",
        "from sklearn.model_selection import cross_val_score, cross_validate\n",
        "from sklearn.model_selection import GridSearchCV\n",
        "from sklearn.metrics import make_scorer\n",
        "from sklearn.model_selection import train_test_split\n",
        "from sklearn.preprocessing import StandardScaler, MinMaxScaler\n",
        "from yellowbrick.classifier import PrecisionRecallCurve"
      ]
    },
    {
      "cell_type": "code",
      "execution_count": null,
      "metadata": {
        "id": "Jrwm5H3YBGej"
      },
      "outputs": [],
      "source": [
        " def eval_metric(model, X_train, y_train, X_test, y_test):\n",
        "    y_train_pred = model.predict(X_train)\n",
        "    y_pred = model.predict(X_test)\n",
        "    \n",
        "    print(\"Test_Set\")\n",
        "    print(\"confussion matrix\")\n",
        "    print(confusion_matrix(y_test, y_pred))\n",
        "    print(classification_report(y_test, y_pred))\n",
        "    print()\n",
        "    print(\"Train_Set\")\n",
        "    print(\"confussion matrix\")\n",
        "    print(confusion_matrix(y_train, y_train_pred))\n",
        "    print(classification_report(y_train, y_train_pred))"
      ]
    },
    {
      "cell_type": "markdown",
      "metadata": {
        "id": "ZpxENMGxLcMA"
      },
      "source": [
        "#Logistic Regression"
      ]
    },
    {
      "cell_type": "markdown",
      "metadata": {
        "id": "dj7imWXPuMXz"
      },
      "source": [
        "Preprocessing"
      ]
    },
    {
      "cell_type": "code",
      "execution_count": null,
      "metadata": {
        "id": "sPnLS-NgaFn3"
      },
      "outputs": [],
      "source": [
        "log_df = pd.get_dummies(df, columns = ['sex', 'cp', 'fbs', 'restecg', 'exang'])"
      ]
    },
    {
      "cell_type": "code",
      "execution_count": null,
      "metadata": {
        "id": "PWoZy5mYuYPc"
      },
      "outputs": [],
      "source": [
        "#scaling numerical features\n",
        "scaler = StandardScaler()\n",
        "columns = [\"age\", \"trestbps\", \"chol\", \"thalach\", \"oldpeak\"]\n",
        "log_df[columns] = scaler.fit_transform(log_df[columns])"
      ]
    },
    {
      "cell_type": "code",
      "execution_count": null,
      "metadata": {
        "colab": {
          "base_uri": "https://localhost:8080/",
          "height": 206
        },
        "id": "3vZpd_vOujHK",
        "outputId": "64c3b92a-7f3e-44af-b84c-6bc6dc3786bf"
      },
      "outputs": [
        {
          "output_type": "execute_result",
          "data": {
            "text/plain": [
              "        age  trestbps          chol   thalach   oldpeak  target  sex_0  sex_1  \\\n",
              "0 -2.537605 -0.151650 -1.829907e+00  1.953350 -0.647637       0      0      1   \n",
              "1 -2.409588 -0.721555 -1.208462e-01  0.890327 -0.647637       0      0      1   \n",
              "2 -2.409588  0.418256 -4.376076e-16  1.315537 -0.647637       0      0      1   \n",
              "3 -2.281572  2.127973 -2.132278e-01  1.315537 -0.647637       0      1      0   \n",
              "4 -2.153556 -1.861367 -4.903729e-01  0.465118 -0.647637       0      1      0   \n",
              "\n",
              "   cp_1  cp_2  cp_3  cp_4  fbs_0.0  fbs_1.0  restecg_0.0  restecg_1.0  \\\n",
              "0     0     1     0     0        1        0            0            0   \n",
              "1     0     1     0     0        1        0            1            0   \n",
              "2     0     1     0     0        1        0            1            0   \n",
              "3     1     0     0     0        1        0            0            1   \n",
              "4     0     1     0     0        1        0            0            1   \n",
              "\n",
              "   restecg_2.0  exang_0.0  exang_1.0  \n",
              "0            1          1          0  \n",
              "1            0          1          0  \n",
              "2            0          1          0  \n",
              "3            0          1          0  \n",
              "4            0          1          0  "
            ],
            "text/html": [
              "\n",
              "  <div id=\"df-94fa0cc2-a44d-4f8a-ad51-4eafa5ff6402\">\n",
              "    <div class=\"colab-df-container\">\n",
              "      <div>\n",
              "<style scoped>\n",
              "    .dataframe tbody tr th:only-of-type {\n",
              "        vertical-align: middle;\n",
              "    }\n",
              "\n",
              "    .dataframe tbody tr th {\n",
              "        vertical-align: top;\n",
              "    }\n",
              "\n",
              "    .dataframe thead th {\n",
              "        text-align: right;\n",
              "    }\n",
              "</style>\n",
              "<table border=\"1\" class=\"dataframe\">\n",
              "  <thead>\n",
              "    <tr style=\"text-align: right;\">\n",
              "      <th></th>\n",
              "      <th>age</th>\n",
              "      <th>trestbps</th>\n",
              "      <th>chol</th>\n",
              "      <th>thalach</th>\n",
              "      <th>oldpeak</th>\n",
              "      <th>target</th>\n",
              "      <th>sex_0</th>\n",
              "      <th>sex_1</th>\n",
              "      <th>cp_1</th>\n",
              "      <th>cp_2</th>\n",
              "      <th>cp_3</th>\n",
              "      <th>cp_4</th>\n",
              "      <th>fbs_0.0</th>\n",
              "      <th>fbs_1.0</th>\n",
              "      <th>restecg_0.0</th>\n",
              "      <th>restecg_1.0</th>\n",
              "      <th>restecg_2.0</th>\n",
              "      <th>exang_0.0</th>\n",
              "      <th>exang_1.0</th>\n",
              "    </tr>\n",
              "  </thead>\n",
              "  <tbody>\n",
              "    <tr>\n",
              "      <th>0</th>\n",
              "      <td>-2.537605</td>\n",
              "      <td>-0.151650</td>\n",
              "      <td>-1.829907e+00</td>\n",
              "      <td>1.953350</td>\n",
              "      <td>-0.647637</td>\n",
              "      <td>0</td>\n",
              "      <td>0</td>\n",
              "      <td>1</td>\n",
              "      <td>0</td>\n",
              "      <td>1</td>\n",
              "      <td>0</td>\n",
              "      <td>0</td>\n",
              "      <td>1</td>\n",
              "      <td>0</td>\n",
              "      <td>0</td>\n",
              "      <td>0</td>\n",
              "      <td>1</td>\n",
              "      <td>1</td>\n",
              "      <td>0</td>\n",
              "    </tr>\n",
              "    <tr>\n",
              "      <th>1</th>\n",
              "      <td>-2.409588</td>\n",
              "      <td>-0.721555</td>\n",
              "      <td>-1.208462e-01</td>\n",
              "      <td>0.890327</td>\n",
              "      <td>-0.647637</td>\n",
              "      <td>0</td>\n",
              "      <td>0</td>\n",
              "      <td>1</td>\n",
              "      <td>0</td>\n",
              "      <td>1</td>\n",
              "      <td>0</td>\n",
              "      <td>0</td>\n",
              "      <td>1</td>\n",
              "      <td>0</td>\n",
              "      <td>1</td>\n",
              "      <td>0</td>\n",
              "      <td>0</td>\n",
              "      <td>1</td>\n",
              "      <td>0</td>\n",
              "    </tr>\n",
              "    <tr>\n",
              "      <th>2</th>\n",
              "      <td>-2.409588</td>\n",
              "      <td>0.418256</td>\n",
              "      <td>-4.376076e-16</td>\n",
              "      <td>1.315537</td>\n",
              "      <td>-0.647637</td>\n",
              "      <td>0</td>\n",
              "      <td>0</td>\n",
              "      <td>1</td>\n",
              "      <td>0</td>\n",
              "      <td>1</td>\n",
              "      <td>0</td>\n",
              "      <td>0</td>\n",
              "      <td>1</td>\n",
              "      <td>0</td>\n",
              "      <td>1</td>\n",
              "      <td>0</td>\n",
              "      <td>0</td>\n",
              "      <td>1</td>\n",
              "      <td>0</td>\n",
              "    </tr>\n",
              "    <tr>\n",
              "      <th>3</th>\n",
              "      <td>-2.281572</td>\n",
              "      <td>2.127973</td>\n",
              "      <td>-2.132278e-01</td>\n",
              "      <td>1.315537</td>\n",
              "      <td>-0.647637</td>\n",
              "      <td>0</td>\n",
              "      <td>1</td>\n",
              "      <td>0</td>\n",
              "      <td>1</td>\n",
              "      <td>0</td>\n",
              "      <td>0</td>\n",
              "      <td>0</td>\n",
              "      <td>1</td>\n",
              "      <td>0</td>\n",
              "      <td>0</td>\n",
              "      <td>1</td>\n",
              "      <td>0</td>\n",
              "      <td>1</td>\n",
              "      <td>0</td>\n",
              "    </tr>\n",
              "    <tr>\n",
              "      <th>4</th>\n",
              "      <td>-2.153556</td>\n",
              "      <td>-1.861367</td>\n",
              "      <td>-4.903729e-01</td>\n",
              "      <td>0.465118</td>\n",
              "      <td>-0.647637</td>\n",
              "      <td>0</td>\n",
              "      <td>1</td>\n",
              "      <td>0</td>\n",
              "      <td>0</td>\n",
              "      <td>1</td>\n",
              "      <td>0</td>\n",
              "      <td>0</td>\n",
              "      <td>1</td>\n",
              "      <td>0</td>\n",
              "      <td>0</td>\n",
              "      <td>1</td>\n",
              "      <td>0</td>\n",
              "      <td>1</td>\n",
              "      <td>0</td>\n",
              "    </tr>\n",
              "  </tbody>\n",
              "</table>\n",
              "</div>\n",
              "      <button class=\"colab-df-convert\" onclick=\"convertToInteractive('df-94fa0cc2-a44d-4f8a-ad51-4eafa5ff6402')\"\n",
              "              title=\"Convert this dataframe to an interactive table.\"\n",
              "              style=\"display:none;\">\n",
              "        \n",
              "  <svg xmlns=\"http://www.w3.org/2000/svg\" height=\"24px\"viewBox=\"0 0 24 24\"\n",
              "       width=\"24px\">\n",
              "    <path d=\"M0 0h24v24H0V0z\" fill=\"none\"/>\n",
              "    <path d=\"M18.56 5.44l.94 2.06.94-2.06 2.06-.94-2.06-.94-.94-2.06-.94 2.06-2.06.94zm-11 1L8.5 8.5l.94-2.06 2.06-.94-2.06-.94L8.5 2.5l-.94 2.06-2.06.94zm10 10l.94 2.06.94-2.06 2.06-.94-2.06-.94-.94-2.06-.94 2.06-2.06.94z\"/><path d=\"M17.41 7.96l-1.37-1.37c-.4-.4-.92-.59-1.43-.59-.52 0-1.04.2-1.43.59L10.3 9.45l-7.72 7.72c-.78.78-.78 2.05 0 2.83L4 21.41c.39.39.9.59 1.41.59.51 0 1.02-.2 1.41-.59l7.78-7.78 2.81-2.81c.8-.78.8-2.07 0-2.86zM5.41 20L4 18.59l7.72-7.72 1.47 1.35L5.41 20z\"/>\n",
              "  </svg>\n",
              "      </button>\n",
              "      \n",
              "  <style>\n",
              "    .colab-df-container {\n",
              "      display:flex;\n",
              "      flex-wrap:wrap;\n",
              "      gap: 12px;\n",
              "    }\n",
              "\n",
              "    .colab-df-convert {\n",
              "      background-color: #E8F0FE;\n",
              "      border: none;\n",
              "      border-radius: 50%;\n",
              "      cursor: pointer;\n",
              "      display: none;\n",
              "      fill: #1967D2;\n",
              "      height: 32px;\n",
              "      padding: 0 0 0 0;\n",
              "      width: 32px;\n",
              "    }\n",
              "\n",
              "    .colab-df-convert:hover {\n",
              "      background-color: #E2EBFA;\n",
              "      box-shadow: 0px 1px 2px rgba(60, 64, 67, 0.3), 0px 1px 3px 1px rgba(60, 64, 67, 0.15);\n",
              "      fill: #174EA6;\n",
              "    }\n",
              "\n",
              "    [theme=dark] .colab-df-convert {\n",
              "      background-color: #3B4455;\n",
              "      fill: #D2E3FC;\n",
              "    }\n",
              "\n",
              "    [theme=dark] .colab-df-convert:hover {\n",
              "      background-color: #434B5C;\n",
              "      box-shadow: 0px 1px 3px 1px rgba(0, 0, 0, 0.15);\n",
              "      filter: drop-shadow(0px 1px 2px rgba(0, 0, 0, 0.3));\n",
              "      fill: #FFFFFF;\n",
              "    }\n",
              "  </style>\n",
              "\n",
              "      <script>\n",
              "        const buttonEl =\n",
              "          document.querySelector('#df-94fa0cc2-a44d-4f8a-ad51-4eafa5ff6402 button.colab-df-convert');\n",
              "        buttonEl.style.display =\n",
              "          google.colab.kernel.accessAllowed ? 'block' : 'none';\n",
              "\n",
              "        async function convertToInteractive(key) {\n",
              "          const element = document.querySelector('#df-94fa0cc2-a44d-4f8a-ad51-4eafa5ff6402');\n",
              "          const dataTable =\n",
              "            await google.colab.kernel.invokeFunction('convertToInteractive',\n",
              "                                                     [key], {});\n",
              "          if (!dataTable) return;\n",
              "\n",
              "          const docLinkHtml = 'Like what you see? Visit the ' +\n",
              "            '<a target=\"_blank\" href=https://colab.research.google.com/notebooks/data_table.ipynb>data table notebook</a>'\n",
              "            + ' to learn more about interactive tables.';\n",
              "          element.innerHTML = '';\n",
              "          dataTable['output_type'] = 'display_data';\n",
              "          await google.colab.output.renderOutput(dataTable, element);\n",
              "          const docLink = document.createElement('div');\n",
              "          docLink.innerHTML = docLinkHtml;\n",
              "          element.appendChild(docLink);\n",
              "        }\n",
              "      </script>\n",
              "    </div>\n",
              "  </div>\n",
              "  "
            ]
          },
          "metadata": {},
          "execution_count": 347
        }
      ],
      "source": [
        "log_df.head()"
      ]
    },
    {
      "cell_type": "code",
      "execution_count": null,
      "metadata": {
        "id": "EZuFnjXDuu5P"
      },
      "outputs": [],
      "source": [
        "X= log_df.drop([\"target\"], axis=1)\n",
        "y= log_df[\"target\"]"
      ]
    },
    {
      "cell_type": "code",
      "execution_count": null,
      "metadata": {
        "id": "LaOydcpou9BY"
      },
      "outputs": [],
      "source": [
        "X_train, X_test, y_train, y_test = train_test_split(X, y, test_size=0.2, stratify=y, random_state=10)"
      ]
    },
    {
      "cell_type": "code",
      "execution_count": null,
      "metadata": {
        "id": "KihtAgUgvF1G"
      },
      "outputs": [],
      "source": [
        "from sklearn.linear_model import LogisticRegression"
      ]
    },
    {
      "cell_type": "code",
      "execution_count": null,
      "metadata": {
        "colab": {
          "base_uri": "https://localhost:8080/"
        },
        "id": "8nqSUC5vx-_h",
        "outputId": "dd1bd0f5-dab6-4ef1-920e-ad7ffe274748"
      },
      "outputs": [
        {
          "output_type": "execute_result",
          "data": {
            "text/plain": [
              "LogisticRegression()"
            ]
          },
          "metadata": {},
          "execution_count": 351
        }
      ],
      "source": [
        "log_model=LogisticRegression()\n",
        "log_model.fit(X_train, y_train)"
      ]
    },
    {
      "cell_type": "code",
      "execution_count": null,
      "metadata": {
        "colab": {
          "base_uri": "https://localhost:8080/"
        },
        "id": "DLMR3VujyIp7",
        "outputId": "dd0d7e2a-ff88-43bb-e608-3044f656d0f4"
      },
      "outputs": [
        {
          "output_type": "stream",
          "name": "stdout",
          "text": [
            "Test_Set\n",
            "confussion matrix\n",
            "[[34  4]\n",
            " [ 5 16]]\n",
            "              precision    recall  f1-score   support\n",
            "\n",
            "           0       0.87      0.89      0.88        38\n",
            "           1       0.80      0.76      0.78        21\n",
            "\n",
            "    accuracy                           0.85        59\n",
            "   macro avg       0.84      0.83      0.83        59\n",
            "weighted avg       0.85      0.85      0.85        59\n",
            "\n",
            "\n",
            "Train_Set\n",
            "confussion matrix\n",
            "[[136  13]\n",
            " [ 25  60]]\n",
            "              precision    recall  f1-score   support\n",
            "\n",
            "           0       0.84      0.91      0.88       149\n",
            "           1       0.82      0.71      0.76        85\n",
            "\n",
            "    accuracy                           0.84       234\n",
            "   macro avg       0.83      0.81      0.82       234\n",
            "weighted avg       0.84      0.84      0.83       234\n",
            "\n"
          ]
        }
      ],
      "source": [
        "eval_metric(log_model, X_train, y_train, X_test, y_test)"
      ]
    },
    {
      "cell_type": "code",
      "execution_count": null,
      "metadata": {
        "colab": {
          "base_uri": "https://localhost:8080/"
        },
        "id": "nBVQue5myPq6",
        "outputId": "181be904-e327-4a41-a87e-082d6e3816ad"
      },
      "outputs": [
        {
          "output_type": "stream",
          "name": "stdout",
          "text": [
            "Test_Set\n",
            "confussion matrix\n",
            "[[32  6]\n",
            " [ 3 18]]\n",
            "              precision    recall  f1-score   support\n",
            "\n",
            "           0       0.91      0.84      0.88        38\n",
            "           1       0.75      0.86      0.80        21\n",
            "\n",
            "    accuracy                           0.85        59\n",
            "   macro avg       0.83      0.85      0.84        59\n",
            "weighted avg       0.86      0.85      0.85        59\n",
            "\n",
            "\n",
            "Train_Set\n",
            "confussion matrix\n",
            "[[128  21]\n",
            " [ 22  63]]\n",
            "              precision    recall  f1-score   support\n",
            "\n",
            "           0       0.85      0.86      0.86       149\n",
            "           1       0.75      0.74      0.75        85\n",
            "\n",
            "    accuracy                           0.82       234\n",
            "   macro avg       0.80      0.80      0.80       234\n",
            "weighted avg       0.82      0.82      0.82       234\n",
            "\n"
          ]
        }
      ],
      "source": [
        "log_model=LogisticRegression( C=0.2, max_iter = 200, class_weight=\"balanced\")  \n",
        "log_model.fit(X_train, y_train)\n",
        "eval_metric(log_model, X_train, y_train, X_test, y_test)"
      ]
    },
    {
      "cell_type": "code",
      "execution_count": null,
      "metadata": {
        "id": "8AIMsD0A0By4"
      },
      "outputs": [],
      "source": [
        "y_pred = log_model.predict(X_test)\n",
        "log_f1 = f1_score(y_test, y_pred)\n",
        "log_recall = recall_score(y_test, y_pred)\n",
        "log_auc = roc_auc_score(y_test, y_pred)"
      ]
    },
    {
      "cell_type": "markdown",
      "metadata": {
        "id": "7rL_q1310qQH"
      },
      "source": [
        "Grid Search for Logistic Regression (Hyperparameter Tuning)"
      ]
    },
    {
      "cell_type": "code",
      "execution_count": null,
      "metadata": {
        "id": "m3XGQ_Wx0lfV"
      },
      "outputs": [],
      "source": [
        "penalty = [\"l1\", \"l2\"]\n",
        "C = np.logspace(-1, 5, 10)\n",
        "max_iter = [100, 150, 200, 250, 300, 350, 400]\n",
        "param_grid = {\"penalty\" : penalty,\n",
        "             \"C\" : C,\n",
        "              \"max_iter\" : max_iter}"
      ]
    },
    {
      "cell_type": "code",
      "execution_count": null,
      "metadata": {
        "id": "Got2hg1f0vYA"
      },
      "outputs": [],
      "source": [
        "log_grid_model = GridSearchCV(log_model, param_grid = param_grid, cv=5) "
      ]
    },
    {
      "cell_type": "code",
      "execution_count": null,
      "metadata": {
        "colab": {
          "base_uri": "https://localhost:8080/"
        },
        "id": "bRPUkNvj039i",
        "outputId": "5a6e314f-6c60-452c-a2c8-ddb2276d8182"
      },
      "outputs": [
        {
          "output_type": "execute_result",
          "data": {
            "text/plain": [
              "GridSearchCV(cv=5,\n",
              "             estimator=LogisticRegression(C=0.2, class_weight='balanced',\n",
              "                                          max_iter=200),\n",
              "             param_grid={'C': array([1.00000000e-01, 4.64158883e-01, 2.15443469e+00, 1.00000000e+01,\n",
              "       4.64158883e+01, 2.15443469e+02, 1.00000000e+03, 4.64158883e+03,\n",
              "       2.15443469e+04, 1.00000000e+05]),\n",
              "                         'max_iter': [100, 150, 200, 250, 300, 350, 400],\n",
              "                         'penalty': ['l1', 'l2']})"
            ]
          },
          "metadata": {},
          "execution_count": 357
        }
      ],
      "source": [
        "log_grid_model.fit(X_train,y_train)"
      ]
    },
    {
      "cell_type": "code",
      "execution_count": null,
      "metadata": {
        "colab": {
          "base_uri": "https://localhost:8080/"
        },
        "id": "9mKDu-5407PB",
        "outputId": "dcadaa37-7702-458a-94a4-c8321ca0e358"
      },
      "outputs": [
        {
          "output_type": "execute_result",
          "data": {
            "text/plain": [
              "{'C': 0.1, 'max_iter': 100, 'penalty': 'l2'}"
            ]
          },
          "metadata": {},
          "execution_count": 358
        }
      ],
      "source": [
        "log_grid_model.best_params_"
      ]
    },
    {
      "cell_type": "code",
      "execution_count": null,
      "metadata": {
        "colab": {
          "base_uri": "https://localhost:8080/"
        },
        "id": "dgLMAw991BWT",
        "outputId": "bf52596e-a216-4a7d-fab3-65a37f55e435"
      },
      "outputs": [
        {
          "output_type": "stream",
          "name": "stdout",
          "text": [
            "Test_Set\n",
            "confussion matrix\n",
            "[[32  6]\n",
            " [ 3 18]]\n",
            "              precision    recall  f1-score   support\n",
            "\n",
            "           0       0.91      0.84      0.88        38\n",
            "           1       0.75      0.86      0.80        21\n",
            "\n",
            "    accuracy                           0.85        59\n",
            "   macro avg       0.83      0.85      0.84        59\n",
            "weighted avg       0.86      0.85      0.85        59\n",
            "\n",
            "\n",
            "Train_Set\n",
            "confussion matrix\n",
            "[[131  18]\n",
            " [ 22  63]]\n",
            "              precision    recall  f1-score   support\n",
            "\n",
            "           0       0.86      0.88      0.87       149\n",
            "           1       0.78      0.74      0.76        85\n",
            "\n",
            "    accuracy                           0.83       234\n",
            "   macro avg       0.82      0.81      0.81       234\n",
            "weighted avg       0.83      0.83      0.83       234\n",
            "\n"
          ]
        }
      ],
      "source": [
        "eval_metric(log_grid_model, X_train, y_train, X_test, y_test) "
      ]
    },
    {
      "cell_type": "code",
      "source": [
        "plot_roc_curve(log_grid_model, X_test, y_test);"
      ],
      "metadata": {
        "colab": {
          "base_uri": "https://localhost:8080/",
          "height": 279
        },
        "id": "OCC0km7dtroG",
        "outputId": "8a3b1962-f30c-4901-c1a2-f400f3bb7246"
      },
      "execution_count": null,
      "outputs": [
        {
          "output_type": "display_data",
          "data": {
            "text/plain": [
              "<Figure size 432x288 with 1 Axes>"
            ],
            "image/png": "[encoded data removed]"
          },
          "metadata": {}
        }
      ]
    },
    {
      "cell_type": "markdown",
      "source": [
        "from sklearn.metrics import roc_curve, precision_recall_curve, roc_auc_score\n",
        "fpr_log,tpr_log,thres_log = roc_curve(yte, ypred_xte)\n",
        "log_precision, log_recall, log_thres = precision_recall_curve(yte, ypred_xte)\n",
        "\n",
        "\n",
        "fig, ax = plt.subplots(1,2,figsize=(20,6))\n",
        "ax[0].plot(fpr_log,tpr_log)\n",
        "ax[0].plot([0, 1], ls=\"--\")\n",
        "ax[0].plot([0, 0], [1, 0] , c=\".7\")\n",
        "ax[0].plot([1, 1] , c=\".7\")\n",
        "ax[0].set_ylabel('True Positive Rate')\n",
        "ax[0].set_xlabel('False Positive Rate')\n",
        "print(roc_auc_score(yte, ypred_xte))\n",
        "\n",
        "\n",
        "ax[1].pl\n",
        "from sklearn.metrics import roc_curve, precision_recall_curve, roc_auc_score\n",
        "fpr_log,tpr_log,thres_log = roc_curve(yte, ypred_xte)\n",
        "log_precision, log_recall, log_thres = precision_recall_curve(yte, ypred_xte)\n",
        "\n",
        "\n",
        "fig, ax = plt.subplots(1,2,figsize=(20,6))\n",
        "ax[0].plot(fpr_log,tpr_log)\n",
        "ax[0].plot([0, 1], ls=\"--\")\n",
        "ax[0].plot([0, 0], [1, 0] , c=\".7\")\n",
        "ax[0].plot([1, 1] , c=\".7\")\n",
        "ax[0].set_ylabel('True Positive Rate')\n",
        "ax[0].set_xlabel('False Positive Rate')\n",
        "print(roc_auc_score(yte, ypred_xte))\n",
        "\n",
        "\n",
        "ax[1].pl"
      ],
      "metadata": {
        "id": "NCn-t0pTiT5v"
      }
    },
    {
      "cell_type": "markdown",
      "metadata": {
        "id": "6oFUuZgD1pVo"
      },
      "source": [
        "# Random Forest"
      ]
    },
    {
      "cell_type": "markdown",
      "metadata": {
        "id": "bV1o4oolO1dq"
      },
      "source": [
        "The other model that will be used is Random Forest that represents bagging method. This method has been more resistant to overfitting than Decision Tree. While some decisions have been combined by a decision tree,several decision trees have been combined by a random forest. Thus, decision tree works well on large datasets rapidly. But since our dataset is not too large we used Random Forest here rather than Decision tree."
      ]
    },
    {
      "cell_type": "markdown",
      "metadata": {
        "id": "Aa3lUFjjO_DQ"
      },
      "source": [
        "Preprocessing"
      ]
    },
    {
      "cell_type": "markdown",
      "metadata": {
        "id": "c3eoX9jXO_VM"
      },
      "source": [
        "Since tree-based models like Random Forest doesn't need scaling and get dummies, the original data has been used here."
      ]
    },
    {
      "cell_type": "code",
      "execution_count": null,
      "metadata": {
        "id": "JKSTMBeQ1Fzd"
      },
      "outputs": [],
      "source": [
        "X= df.drop([\"target\"], axis=1)\n",
        "y= df[\"target\"]"
      ]
    },
    {
      "cell_type": "code",
      "execution_count": null,
      "metadata": {
        "id": "HRYkfJUSPUbW"
      },
      "outputs": [],
      "source": [
        "X_train, X_test, y_train, y_test = train_test_split(X, y, test_size=0.2, stratify=y,  random_state=10)"
      ]
    },
    {
      "cell_type": "code",
      "execution_count": null,
      "metadata": {
        "id": "7gzvTomXPcfK"
      },
      "outputs": [],
      "source": [
        "from sklearn.ensemble import RandomForestClassifier"
      ]
    },
    {
      "cell_type": "code",
      "source": [
        "rf_model = RandomForestClassifier(random_state=10)\n",
        "rf_model.fit(X_train,y_train)\n",
        "eval_metric(rf_model, X_train, y_train, X_test, y_test)\n",
        "# before tuning\n",
        "# As we see, there is overfitting. Now I will try to decrease it by tuning the hyperparameters."
      ],
      "metadata": {
        "colab": {
          "base_uri": "https://localhost:8080/"
        },
        "id": "G0hcKFaPiJF4",
        "outputId": "15cd49d3-4e16-4acd-e094-1e6ebca85a13"
      },
      "execution_count": null,
      "outputs": [
        {
          "output_type": "stream",
          "name": "stdout",
          "text": [
            "Test_Set\n",
            "confussion matrix\n",
            "[[34  4]\n",
            " [ 7 14]]\n",
            "              precision    recall  f1-score   support\n",
            "\n",
            "           0       0.83      0.89      0.86        38\n",
            "           1       0.78      0.67      0.72        21\n",
            "\n",
            "    accuracy                           0.81        59\n",
            "   macro avg       0.80      0.78      0.79        59\n",
            "weighted avg       0.81      0.81      0.81        59\n",
            "\n",
            "\n",
            "Train_Set\n",
            "confussion matrix\n",
            "[[149   0]\n",
            " [  0  85]]\n",
            "              precision    recall  f1-score   support\n",
            "\n",
            "           0       1.00      1.00      1.00       149\n",
            "           1       1.00      1.00      1.00        85\n",
            "\n",
            "    accuracy                           1.00       234\n",
            "   macro avg       1.00      1.00      1.00       234\n",
            "weighted avg       1.00      1.00      1.00       234\n",
            "\n"
          ]
        }
      ]
    },
    {
      "cell_type": "code",
      "source": [
        "rf_model = RandomForestClassifier(class_weight=\"balanced\",max_depth=2, random_state=10)\n",
        "rf_model.fit(X_train,y_train)\n",
        "eval_metric(rf_model, X_train, y_train, X_test, y_test)\n",
        "# After tuning many times manually, for the random forest model, these parameters gave the best scores. \n",
        "# Now I will display its precision-recall curve and Roc Curve."
      ],
      "metadata": {
        "colab": {
          "base_uri": "https://localhost:8080/"
        },
        "id": "IggBod67iNc2",
        "outputId": "b472adc0-c282-4022-f4ab-9ae821de70c2"
      },
      "execution_count": null,
      "outputs": [
        {
          "output_type": "stream",
          "name": "stdout",
          "text": [
            "Test_Set\n",
            "confussion matrix\n",
            "[[34  4]\n",
            " [ 5 16]]\n",
            "              precision    recall  f1-score   support\n",
            "\n",
            "           0       0.87      0.89      0.88        38\n",
            "           1       0.80      0.76      0.78        21\n",
            "\n",
            "    accuracy                           0.85        59\n",
            "   macro avg       0.84      0.83      0.83        59\n",
            "weighted avg       0.85      0.85      0.85        59\n",
            "\n",
            "\n",
            "Train_Set\n",
            "confussion matrix\n",
            "[[135  14]\n",
            " [ 23  62]]\n",
            "              precision    recall  f1-score   support\n",
            "\n",
            "           0       0.85      0.91      0.88       149\n",
            "           1       0.82      0.73      0.77        85\n",
            "\n",
            "    accuracy                           0.84       234\n",
            "   macro avg       0.84      0.82      0.82       234\n",
            "weighted avg       0.84      0.84      0.84       234\n",
            "\n"
          ]
        }
      ]
    },
    {
      "cell_type": "markdown",
      "source": [
        "Grid Search for Random Forest (Hyperparameter Tuning)"
      ],
      "metadata": {
        "id": "UOEJ4xAaibNL"
      }
    },
    {
      "cell_type": "code",
      "source": [
        "param_grid = {'n_estimators':[50, 64, 100, 128, 200, 300],  \n",
        "              'criterion': [ \"gini\", \"entropy\"],  \n",
        "             'max_features':[2, 3, 4, \"auto\"],\n",
        "             'max_depth':[2,3, 5, 7],\n",
        "             'min_samples_split':[2, 5, 8]}"
      ],
      "metadata": {
        "id": "NFzz6iGsiT7U"
      },
      "execution_count": null,
      "outputs": []
    },
    {
      "cell_type": "code",
      "source": [
        "model = RandomForestClassifier(class_weight = \"balanced\", random_state=101)\n",
        "rf_grid_model = GridSearchCV(model, param_grid, scoring = \"f1\").fit(X_train, y_train)"
      ],
      "metadata": {
        "id": "Vd65_Ck4ig3P"
      },
      "execution_count": null,
      "outputs": []
    },
    {
      "cell_type": "code",
      "source": [
        "rf_grid_model.best_params_"
      ],
      "metadata": {
        "colab": {
          "base_uri": "https://localhost:8080/"
        },
        "id": "QYWIHKS4ikdu",
        "outputId": "33cc4522-cda6-4e92-83e3-652a866d22d0"
      },
      "execution_count": null,
      "outputs": [
        {
          "output_type": "execute_result",
          "data": {
            "text/plain": [
              "{'criterion': 'gini',\n",
              " 'max_depth': 7,\n",
              " 'max_features': 2,\n",
              " 'min_samples_split': 5,\n",
              " 'n_estimators': 64}"
            ]
          },
          "metadata": {},
          "execution_count": 278
        }
      ]
    },
    {
      "cell_type": "code",
      "source": [
        "eval_metric(rf_grid_model, X_train, y_train, X_test, y_test)"
      ],
      "metadata": {
        "colab": {
          "base_uri": "https://localhost:8080/"
        },
        "id": "I4brstsZlPVZ",
        "outputId": "b5faff1d-587f-4d5f-f6a7-61ac61d8e03e"
      },
      "execution_count": null,
      "outputs": [
        {
          "output_type": "stream",
          "name": "stdout",
          "text": [
            "Test_Set\n",
            "confussion matrix\n",
            "[[33  5]\n",
            " [ 5 16]]\n",
            "              precision    recall  f1-score   support\n",
            "\n",
            "           0       0.87      0.87      0.87        38\n",
            "           1       0.76      0.76      0.76        21\n",
            "\n",
            "    accuracy                           0.83        59\n",
            "   macro avg       0.82      0.82      0.82        59\n",
            "weighted avg       0.83      0.83      0.83        59\n",
            "\n",
            "\n",
            "Train_Set\n",
            "confussion matrix\n",
            "[[143   6]\n",
            " [  8  77]]\n",
            "              precision    recall  f1-score   support\n",
            "\n",
            "           0       0.95      0.96      0.95       149\n",
            "           1       0.93      0.91      0.92        85\n",
            "\n",
            "    accuracy                           0.94       234\n",
            "   macro avg       0.94      0.93      0.93       234\n",
            "weighted avg       0.94      0.94      0.94       234\n",
            "\n"
          ]
        }
      ]
    },
    {
      "cell_type": "markdown",
      "source": [
        "The Random Forest model above which has been manually tuned gave better score than grid search results, so I saved its scores."
      ],
      "metadata": {
        "id": "m5GqUv4OlV1o"
      }
    },
    {
      "cell_type": "code",
      "source": [
        "y_pred = rf_model.predict(X_test)\n",
        "rf_f1 = f1_score(y_test, y_pred)\n",
        "rf_recall = recall_score(y_test, y_pred)\n",
        "rf_auc = roc_auc_score(y_test, y_pred)"
      ],
      "metadata": {
        "id": "AT9j7UzolSqg"
      },
      "execution_count": null,
      "outputs": []
    },
    {
      "cell_type": "code",
      "source": [
        "plot_roc_curve(rf_model, X_test, y_test);  "
      ],
      "metadata": {
        "colab": {
          "base_uri": "https://localhost:8080/",
          "height": 361
        },
        "id": "kNK01dM6_JmT",
        "outputId": "6961277d-3aeb-4534-f4a8-6a76fd693f95"
      },
      "execution_count": null,
      "outputs": [
        {
          "output_type": "display_data",
          "data": {
            "text/plain": [
              "<Figure size 576x396 with 1 Axes>"
            ],
            "image/png": "[encoded data removed]"
          },
          "metadata": {}
        }
      ]
    },
    {
      "cell_type": "markdown",
      "source": [
        "#GradientBoosting"
      ],
      "metadata": {
        "id": "g8TaKsmH_ZNL"
      }
    },
    {
      "cell_type": "code",
      "source": [
        "from sklearn.ensemble import GradientBoostingClassifier"
      ],
      "metadata": {
        "id": "x5erlDn0_N5K"
      },
      "execution_count": null,
      "outputs": []
    },
    {
      "cell_type": "code",
      "source": [
        "grad_model = GradientBoostingClassifier(random_state=10)\n",
        "grad_model.fit(X_train, y_train)\n",
        "eval_metric(grad_model, X_train, y_train, X_test, y_test)"
      ],
      "metadata": {
        "colab": {
          "base_uri": "https://localhost:8080/"
        },
        "id": "mxBfy-90_s8p",
        "outputId": "10e403ee-b9cf-4038-a5f0-3965e0fc21ed"
      },
      "execution_count": null,
      "outputs": [
        {
          "output_type": "stream",
          "name": "stdout",
          "text": [
            "Test_Set\n",
            "confussion matrix\n",
            "[[35  3]\n",
            " [ 8 13]]\n",
            "              precision    recall  f1-score   support\n",
            "\n",
            "           0       0.81      0.92      0.86        38\n",
            "           1       0.81      0.62      0.70        21\n",
            "\n",
            "    accuracy                           0.81        59\n",
            "   macro avg       0.81      0.77      0.78        59\n",
            "weighted avg       0.81      0.81      0.81        59\n",
            "\n",
            "\n",
            "Train_Set\n",
            "confussion matrix\n",
            "[[149   0]\n",
            " [  1  84]]\n",
            "              precision    recall  f1-score   support\n",
            "\n",
            "           0       0.99      1.00      1.00       149\n",
            "           1       1.00      0.99      0.99        85\n",
            "\n",
            "    accuracy                           1.00       234\n",
            "   macro avg       1.00      0.99      1.00       234\n",
            "weighted avg       1.00      1.00      1.00       234\n",
            "\n"
          ]
        }
      ]
    },
    {
      "cell_type": "markdown",
      "source": [
        "Grid Search for Gradient Boosting (Hyperparamater Tuning)"
      ],
      "metadata": {
        "id": "YpiSKYCPAITI"
      }
    },
    {
      "cell_type": "code",
      "source": [
        "param_grid = {\"n_estimators\":[100, 200, 300],\n",
        "              \"subsample\":[0.5, 1],\n",
        "              \"max_features\" : [None, 2, 3, 4],\n",
        "              \"learning_rate\": [0.001, 0.01, 0.1],\n",
        "              'max_depth':[3,4,5,6]}"
      ],
      "metadata": {
        "id": "LMt_vbqt_8ZH"
      },
      "execution_count": null,
      "outputs": []
    },
    {
      "cell_type": "code",
      "source": [
        "gb_model = GradientBoostingClassifier(random_state=10)"
      ],
      "metadata": {
        "id": "MFvrk37zACnr"
      },
      "execution_count": null,
      "outputs": []
    },
    {
      "cell_type": "code",
      "source": [
        "grid = GridSearchCV(gb_model, param_grid, scoring = \"f1\").fit(X_train, y_train)"
      ],
      "metadata": {
        "id": "pDD2Mus7ASbh"
      },
      "execution_count": null,
      "outputs": []
    },
    {
      "cell_type": "code",
      "source": [
        "grid.best_params_"
      ],
      "metadata": {
        "id": "oDT5BSKyAWoN"
      },
      "execution_count": null,
      "outputs": []
    },
    {
      "cell_type": "code",
      "source": [
        "eval_metric(grid, X_train, y_train, X_test, y_test)"
      ],
      "metadata": {
        "id": "jJom4PaUK8xo"
      },
      "execution_count": null,
      "outputs": []
    },
    {
      "cell_type": "code",
      "source": [
        "gb_model = GradientBoostingClassifier(random_state=10, learning_rate= 0.02, max_depth= 2, max_features= 6,\n",
        "                                      n_estimators= 200, subsample= 0.2)\n",
        "gb_model.fit(X_train, y_train)\n",
        "eval_metric(gb_model, X_train, y_train, X_test, y_test)"
      ],
      "metadata": {
        "colab": {
          "base_uri": "https://localhost:8080/"
        },
        "id": "NZJLdTATLCWp",
        "outputId": "ad8993c2-95b5-4033-cd48-7ea98021a8e0"
      },
      "execution_count": null,
      "outputs": [
        {
          "output_type": "stream",
          "name": "stdout",
          "text": [
            "Test_Set\n",
            "confussion matrix\n",
            "[[33  5]\n",
            " [ 5 16]]\n",
            "              precision    recall  f1-score   support\n",
            "\n",
            "           0       0.87      0.87      0.87        38\n",
            "           1       0.76      0.76      0.76        21\n",
            "\n",
            "    accuracy                           0.83        59\n",
            "   macro avg       0.82      0.82      0.82        59\n",
            "weighted avg       0.83      0.83      0.83        59\n",
            "\n",
            "\n",
            "Train_Set\n",
            "confussion matrix\n",
            "[[136  13]\n",
            " [ 24  61]]\n",
            "              precision    recall  f1-score   support\n",
            "\n",
            "           0       0.85      0.91      0.88       149\n",
            "           1       0.82      0.72      0.77        85\n",
            "\n",
            "    accuracy                           0.84       234\n",
            "   macro avg       0.84      0.82      0.82       234\n",
            "weighted avg       0.84      0.84      0.84       234\n",
            "\n"
          ]
        }
      ]
    },
    {
      "cell_type": "code",
      "source": [
        "plot_roc_curve(gb_model, X_test, y_test);"
      ],
      "metadata": {
        "colab": {
          "base_uri": "https://localhost:8080/",
          "height": 279
        },
        "id": "Bra2CWdsMk5b",
        "outputId": "53a0b262-d317-462f-92e0-f20d85365605"
      },
      "execution_count": null,
      "outputs": [
        {
          "output_type": "display_data",
          "data": {
            "text/plain": [
              "<Figure size 432x288 with 1 Axes>"
            ],
            "image/png": "[encoded data removed]"
          },
          "metadata": {}
        }
      ]
    },
    {
      "cell_type": "code",
      "source": [
        "y_pred = gb_model.predict(X_test)\n",
        "gb_f1 = f1_score(y_test, y_pred)\n",
        "gb_recall = recall_score(y_test, y_pred)\n",
        "gb_auc = roc_auc_score(y_test, y_pred)"
      ],
      "metadata": {
        "id": "Vbg84t1YMpSU"
      },
      "execution_count": null,
      "outputs": []
    },
    {
      "cell_type": "markdown",
      "source": [
        "#XG Boost"
      ],
      "metadata": {
        "id": "onGTOC3MNx9v"
      }
    },
    {
      "cell_type": "code",
      "source": [
        "from xgboost import XGBClassifier"
      ],
      "metadata": {
        "id": "JPFhWha1NVOj"
      },
      "execution_count": null,
      "outputs": []
    },
    {
      "cell_type": "code",
      "source": [
        "xgb = XGBClassifier(random_state=10).fit(X_train, y_train)\n",
        "eval_metric(xgb, X_train, y_train, X_test, y_test)\n",
        "# before tuning"
      ],
      "metadata": {
        "colab": {
          "base_uri": "https://localhost:8080/"
        },
        "id": "fLUH06REOF9O",
        "outputId": "106d8766-ad2d-45cc-ae50-5de0040a47a4"
      },
      "execution_count": null,
      "outputs": [
        {
          "output_type": "stream",
          "name": "stdout",
          "text": [
            "Test_Set\n",
            "confussion matrix\n",
            "[[34  4]\n",
            " [ 9 12]]\n",
            "              precision    recall  f1-score   support\n",
            "\n",
            "           0       0.79      0.89      0.84        38\n",
            "           1       0.75      0.57      0.65        21\n",
            "\n",
            "    accuracy                           0.78        59\n",
            "   macro avg       0.77      0.73      0.74        59\n",
            "weighted avg       0.78      0.78      0.77        59\n",
            "\n",
            "\n",
            "Train_Set\n",
            "confussion matrix\n",
            "[[147   2]\n",
            " [  8  77]]\n",
            "              precision    recall  f1-score   support\n",
            "\n",
            "           0       0.95      0.99      0.97       149\n",
            "           1       0.97      0.91      0.94        85\n",
            "\n",
            "    accuracy                           0.96       234\n",
            "   macro avg       0.96      0.95      0.95       234\n",
            "weighted avg       0.96      0.96      0.96       234\n",
            "\n"
          ]
        }
      ]
    },
    {
      "cell_type": "markdown",
      "source": [
        "There is overfitting for the model. I will tune it."
      ],
      "metadata": {
        "id": "qGLZYc5qOdHh"
      }
    },
    {
      "cell_type": "code",
      "source": [
        "xgb = XGBClassifier(random_state=10, max_depth=2, learning_rate=0.1, scale_pos_weight=3, subsample=0.1).fit(X_train, y_train)\n",
        "eval_metric(xgb, X_train, y_train, X_test, y_test)\n",
        "# after tuning"
      ],
      "metadata": {
        "colab": {
          "base_uri": "https://localhost:8080/"
        },
        "id": "WDDtlthgO4SQ",
        "outputId": "72bc5d95-d25c-4c74-9f77-fbc50262ac0e"
      },
      "execution_count": null,
      "outputs": [
        {
          "output_type": "stream",
          "name": "stdout",
          "text": [
            "Test_Set\n",
            "confussion matrix\n",
            "[[32  6]\n",
            " [ 3 18]]\n",
            "              precision    recall  f1-score   support\n",
            "\n",
            "           0       0.91      0.84      0.88        38\n",
            "           1       0.75      0.86      0.80        21\n",
            "\n",
            "    accuracy                           0.85        59\n",
            "   macro avg       0.83      0.85      0.84        59\n",
            "weighted avg       0.86      0.85      0.85        59\n",
            "\n",
            "\n",
            "Train_Set\n",
            "confussion matrix\n",
            "[[126  23]\n",
            " [ 14  71]]\n",
            "              precision    recall  f1-score   support\n",
            "\n",
            "           0       0.90      0.85      0.87       149\n",
            "           1       0.76      0.84      0.79        85\n",
            "\n",
            "    accuracy                           0.84       234\n",
            "   macro avg       0.83      0.84      0.83       234\n",
            "weighted avg       0.85      0.84      0.84       234\n",
            "\n"
          ]
        }
      ]
    },
    {
      "cell_type": "markdown",
      "source": [
        "Grid Search for XG Boost ( Hyperparameter Tuning)"
      ],
      "metadata": {
        "id": "EHnTPM5GO_CX"
      }
    },
    {
      "cell_type": "code",
      "source": [
        "param_grid = {\"n_estimators\":[50, 100, 200, 250],\n",
        "              'max_depth':[4,6,8],\n",
        "              \"learning_rate\": [0.1, 0.2],\n",
        "              \"subsample\":[0.5, 1, 1.5],\n",
        "              \"colsample_bytree\":[0.5,0.7, 1]}"
      ],
      "metadata": {
        "id": "VjNZj37kOJ8Z"
      },
      "execution_count": null,
      "outputs": []
    },
    {
      "cell_type": "code",
      "source": [
        "xgb_model = XGBClassifier(random_state=10)"
      ],
      "metadata": {
        "id": "Nsl2MHPhOkTS"
      },
      "execution_count": null,
      "outputs": []
    },
    {
      "cell_type": "code",
      "source": [
        "xgb_grid = GridSearchCV(xgb_model, param_grid, scoring = \"f1\").fit(X_train, y_train)"
      ],
      "metadata": {
        "id": "ETA4TcHcOnzg"
      },
      "execution_count": null,
      "outputs": []
    },
    {
      "cell_type": "code",
      "source": [
        "xgb_grid.best_params_"
      ],
      "metadata": {
        "id": "qjlKQIbrOrBT"
      },
      "execution_count": null,
      "outputs": []
    },
    {
      "cell_type": "code",
      "source": [
        "eval_metric(xgb_grid, X_train, y_train, X_test, y_test)"
      ],
      "metadata": {
        "colab": {
          "base_uri": "https://localhost:8080/"
        },
        "id": "bWGtuk2BPOIu",
        "outputId": "9dd5d6d3-c13e-48c9-cbc4-e7d7880f20e7"
      },
      "execution_count": null,
      "outputs": [
        {
          "output_type": "stream",
          "name": "stdout",
          "text": [
            "Test_Set\n",
            "confussion matrix\n",
            "[[34  4]\n",
            " [ 7 14]]\n",
            "              precision    recall  f1-score   support\n",
            "\n",
            "           0       0.83      0.89      0.86        38\n",
            "           1       0.78      0.67      0.72        21\n",
            "\n",
            "    accuracy                           0.81        59\n",
            "   macro avg       0.80      0.78      0.79        59\n",
            "weighted avg       0.81      0.81      0.81        59\n",
            "\n",
            "\n",
            "Train_Set\n",
            "confussion matrix\n",
            "[[146   3]\n",
            " [ 11  74]]\n",
            "              precision    recall  f1-score   support\n",
            "\n",
            "           0       0.93      0.98      0.95       149\n",
            "           1       0.96      0.87      0.91        85\n",
            "\n",
            "    accuracy                           0.94       234\n",
            "   macro avg       0.95      0.93      0.93       234\n",
            "weighted avg       0.94      0.94      0.94       234\n",
            "\n"
          ]
        }
      ]
    },
    {
      "cell_type": "code",
      "source": [
        "plot_roc_curve(xgb_grid, X_test, y_test);  # Roc curve"
      ],
      "metadata": {
        "colab": {
          "base_uri": "https://localhost:8080/",
          "height": 279
        },
        "id": "20x78c5cPSfA",
        "outputId": "5bd972c6-d543-4be7-edb1-1df1bf6d1930"
      },
      "execution_count": null,
      "outputs": [
        {
          "output_type": "display_data",
          "data": {
            "text/plain": [
              "<Figure size 432x288 with 1 Axes>"
            ],
            "image/png": "[encoded data removed]"
          },
          "metadata": {}
        }
      ]
    },
    {
      "cell_type": "code",
      "source": [
        "y_pred = xgb.predict(X_test)\n",
        "xgb_f1 = f1_score(y_test, y_pred)\n",
        "xgb_recall = recall_score(y_test, y_pred)\n",
        "xgb_auc = roc_auc_score(y_test, y_pred)"
      ],
      "metadata": {
        "id": "pR3AZu8DPXu-"
      },
      "execution_count": null,
      "outputs": []
    },
    {
      "cell_type": "markdown",
      "source": [
        "Comparing Different Models"
      ],
      "metadata": {
        "id": "adjecvBdPmge"
      }
    },
    {
      "cell_type": "markdown",
      "source": [
        "Now I will compare all the scores I got from different models by visualizing their f1, recall, and roc-auc scores.\n",
        "\n",
        "In health datasets, recall is more impactful than precision. Therefore, we will prefer recall scores of the models rather than precision."
      ],
      "metadata": {
        "id": "BufE5ha9PpPm"
      }
    },
    {
      "cell_type": "code",
      "source": [
        "compare = pd.DataFrame({\"Model\": [\"Logistic Regression\", \"Random Forest\", \"GradientBoost\", \"XGBoost\"],\n",
        "                        \n",
        "                        \"F1\": [log_f1, rf_f1, gb_f1, xgb_f1],\n",
        "                        \"Recall\": [log_recall, rf_recall, gb_recall, xgb_recall],\n",
        "                        \"ROC_AUC\": [log_auc, rf_auc, gb_auc, xgb_auc]})\n",
        "\n",
        "def labels(ax):\n",
        "    for p in ax.patches:\n",
        "        width = p.get_width()                \n",
        "        ax.text(width,                              \n",
        "                p.get_y() + p.get_height() / 2,   \n",
        "                '{:1.3f}'.format(width),             \n",
        "                ha = 'left',                         \n",
        "                va = 'center')                       \n",
        "    \n",
        "plt.figure(figsize=(12,11))\n",
        "plt.subplot(311)\n",
        "compare = compare.sort_values(by=\"F1\", ascending=False)\n",
        "ax=sns.barplot(x=\"F1\", y=\"Model\", data=compare, palette=\"Blues_d\")\n",
        "labels(ax)\n",
        "\n",
        "plt.subplot(312)\n",
        "compare = compare.sort_values(by=\"Recall\", ascending=False)\n",
        "ax=sns.barplot(x=\"Recall\", y=\"Model\", data=compare, palette=\"Blues_d\")\n",
        "labels(ax)\n",
        "\n",
        "plt.subplot(313)\n",
        "compare = compare.sort_values(by=\"ROC_AUC\", ascending=False)\n",
        "ax=sns.barplot(x=\"ROC_AUC\", y=\"Model\", data=compare, palette=\"Blues_d\")\n",
        "labels(ax)\n",
        "plt.show()"
      ],
      "metadata": {
        "colab": {
          "base_uri": "https://localhost:8080/",
          "height": 661
        },
        "id": "nQaNVTB5PdJa",
        "outputId": "314f7d74-833a-48c9-e758-5692dc5df619"
      },
      "execution_count": null,
      "outputs": [
        {
          "output_type": "display_data",
          "data": {
            "text/plain": [
              "<Figure size 864x792 with 3 Axes>"
            ],
            "image/png": "[encoded data removed]"
          },
          "metadata": {}
        }
      ]
    },
    {
      "cell_type": "markdown",
      "source": [
        "# Conclusion:"
      ],
      "metadata": {
        "id": "8T0gsg3-Ryg1"
      }
    },
    {
      "cell_type": "markdown",
      "source": [
        "There is no big difference between models in terms of score; however, as recall score is more important in health datasets, Logistic Regression model has been chosen as our final model."
      ],
      "metadata": {
        "id": "EvBa1FjzSA5C"
      }
    }
  ],
  "metadata": {
    "colab": {
      "provenance": []
    },
    "kernelspec": {
      "display_name": "Python 3",
      "name": "python3"
    },
    "language_info": {
      "name": "python"
    }
  },
  "nbformat": 4,
  "nbformat_minor": 0
}